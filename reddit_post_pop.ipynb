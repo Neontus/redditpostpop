{
 "cells": [
  {
   "cell_type": "markdown",
   "metadata": {},
   "source": [
    "## Imports/Inputs"
   ]
  },
  {
   "cell_type": "code",
   "execution_count": 5,
   "metadata": {},
   "outputs": [
    {
     "ename": "ModuleNotFoundError",
     "evalue": "No module named 'pandas'",
     "output_type": "error",
     "traceback": [
      "\u001b[0;31m---------------------------------------------------------------------------\u001b[0m",
      "\u001b[0;31mModuleNotFoundError\u001b[0m                       Traceback (most recent call last)",
      "Cell \u001b[0;32mIn[5], line 1\u001b[0m\n\u001b[0;32m----> 1\u001b[0m \u001b[38;5;28;01mimport\u001b[39;00m \u001b[38;5;21;01mpandas\u001b[39;00m \u001b[38;5;28;01mas\u001b[39;00m \u001b[38;5;21;01mpd\u001b[39;00m\n\u001b[1;32m      2\u001b[0m \u001b[38;5;28;01mimport\u001b[39;00m \u001b[38;5;21;01mmatplotlib\u001b[39;00m\u001b[38;5;21;01m.\u001b[39;00m\u001b[38;5;21;01mpyplot\u001b[39;00m \u001b[38;5;28;01mas\u001b[39;00m \u001b[38;5;21;01mplt\u001b[39;00m\n\u001b[1;32m      3\u001b[0m \u001b[38;5;28;01mimport\u001b[39;00m \u001b[38;5;21;01mseaborn\u001b[39;00m \u001b[38;5;28;01mas\u001b[39;00m \u001b[38;5;21;01msns\u001b[39;00m\n",
      "\u001b[0;31mModuleNotFoundError\u001b[0m: No module named 'pandas'"
     ]
    }
   ],
   "source": [
    "import pandas as pd\n",
    "import matplotlib.pyplot as plt\n",
    "import seaborn as sns\n",
    "import os\n",
    "import numpy as np\n",
    "import tensorflow as tf\n",
    "\n",
    "import sklearn\n",
    "from sklearn.model_selection import train_test_split\n",
    "from sklearn.feature_extraction.text import CountVectorizer\n",
    "from sklearn.feature_extraction.text import TfidfVectorizer\n",
    "from sklearn import linear_model\n",
    "\n",
    "from sklearn.ensemble import RandomForestRegressor\n",
    "from sklearn.metrics import confusion_matrix\n",
    "\n",
    "import nltk\n",
    "from nltk.corpus import stopwords\n",
    "import re"
   ]
  },
  {
   "cell_type": "code",
   "execution_count": 106,
   "metadata": {},
   "outputs": [],
   "source": [
    "gpath = '/Users/junokim/Desktop/Code/Persolv/reddit-top-2.5-million-master/data'"
   ]
  },
  {
   "cell_type": "code",
   "execution_count": 107,
   "metadata": {},
   "outputs": [
    {
     "name": "stdout",
     "output_type": "stream",
     "text": [
      "2500\n"
     ]
    }
   ],
   "source": [
    "print(len(os.listdir(gpath)))"
   ]
  },
  {
   "cell_type": "code",
   "execution_count": 65,
   "metadata": {},
   "outputs": [
    {
     "data": {
      "text/html": [
       "<div>\n",
       "<style scoped>\n",
       "    .dataframe tbody tr th:only-of-type {\n",
       "        vertical-align: middle;\n",
       "    }\n",
       "\n",
       "    .dataframe tbody tr th {\n",
       "        vertical-align: top;\n",
       "    }\n",
       "\n",
       "    .dataframe thead th {\n",
       "        text-align: right;\n",
       "    }\n",
       "</style>\n",
       "<table border=\"1\" class=\"dataframe\">\n",
       "  <thead>\n",
       "    <tr style=\"text-align: right;\">\n",
       "      <th></th>\n",
       "      <th>created_utc</th>\n",
       "      <th>score</th>\n",
       "      <th>domain</th>\n",
       "      <th>id</th>\n",
       "      <th>title</th>\n",
       "      <th>ups</th>\n",
       "      <th>downs</th>\n",
       "      <th>num_comments</th>\n",
       "      <th>permalink</th>\n",
       "      <th>selftext</th>\n",
       "      <th>...</th>\n",
       "      <th>over_18</th>\n",
       "      <th>thumbnail</th>\n",
       "      <th>subreddit_id</th>\n",
       "      <th>edited</th>\n",
       "      <th>link_flair_css_class</th>\n",
       "      <th>author_flair_css_class</th>\n",
       "      <th>is_self</th>\n",
       "      <th>name</th>\n",
       "      <th>url</th>\n",
       "      <th>distinguished</th>\n",
       "    </tr>\n",
       "  </thead>\n",
       "  <tbody>\n",
       "    <tr>\n",
       "      <td>0</td>\n",
       "      <td>1.368719e+09</td>\n",
       "      <td>103</td>\n",
       "      <td>i.imgur.com</td>\n",
       "      <td>1egf72</td>\n",
       "      <td>Resume basics from SAG-AFTRA</td>\n",
       "      <td>106</td>\n",
       "      <td>3</td>\n",
       "      <td>19</td>\n",
       "      <td>http://www.reddit.com/r/acting/comments/1egf72...</td>\n",
       "      <td>NaN</td>\n",
       "      <td>...</td>\n",
       "      <td>False</td>\n",
       "      <td>http://c.thumbs.redditmedia.com/E7yGfjtJEzY0pi...</td>\n",
       "      <td>t5_2qyft</td>\n",
       "      <td>False</td>\n",
       "      <td>NaN</td>\n",
       "      <td>NaN</td>\n",
       "      <td>False</td>\n",
       "      <td>t3_1egf72</td>\n",
       "      <td>http://i.imgur.com/i7GPZci.jpg</td>\n",
       "      <td>NaN</td>\n",
       "    </tr>\n",
       "    <tr>\n",
       "      <td>1</td>\n",
       "      <td>1.349958e+09</td>\n",
       "      <td>94</td>\n",
       "      <td>youtube.com</td>\n",
       "      <td>11b0uu</td>\n",
       "      <td>Bryan Cranston's advice for auditioning.</td>\n",
       "      <td>102</td>\n",
       "      <td>8</td>\n",
       "      <td>9</td>\n",
       "      <td>http://www.reddit.com/r/acting/comments/11b0uu...</td>\n",
       "      <td>NaN</td>\n",
       "      <td>...</td>\n",
       "      <td>False</td>\n",
       "      <td>http://b.thumbs.redditmedia.com/w7SVjYY4fQeC_z...</td>\n",
       "      <td>t5_2qyft</td>\n",
       "      <td>False</td>\n",
       "      <td>NaN</td>\n",
       "      <td>NaN</td>\n",
       "      <td>False</td>\n",
       "      <td>t3_11b0uu</td>\n",
       "      <td>http://www.youtube.com/watch?feature=player_de...</td>\n",
       "      <td>NaN</td>\n",
       "    </tr>\n",
       "    <tr>\n",
       "      <td>2</td>\n",
       "      <td>1.371657e+09</td>\n",
       "      <td>86</td>\n",
       "      <td>i.imgur.com</td>\n",
       "      <td>1gnsny</td>\n",
       "      <td>Ira Glass' advice to beginners: applies to pre...</td>\n",
       "      <td>94</td>\n",
       "      <td>8</td>\n",
       "      <td>11</td>\n",
       "      <td>http://www.reddit.com/r/acting/comments/1gnsny...</td>\n",
       "      <td>NaN</td>\n",
       "      <td>...</td>\n",
       "      <td>False</td>\n",
       "      <td>http://b.thumbs.redditmedia.com/F4CfzoSa44Gnqu...</td>\n",
       "      <td>t5_2qyft</td>\n",
       "      <td>False</td>\n",
       "      <td>NaN</td>\n",
       "      <td>NaN</td>\n",
       "      <td>False</td>\n",
       "      <td>t3_1gnsny</td>\n",
       "      <td>http://i.imgur.com/NLuWaX3.jpg</td>\n",
       "      <td>NaN</td>\n",
       "    </tr>\n",
       "    <tr>\n",
       "      <td>3</td>\n",
       "      <td>1.374719e+09</td>\n",
       "      <td>72</td>\n",
       "      <td>youtube.com</td>\n",
       "      <td>1j01fq</td>\n",
       "      <td>Last year I wrapped on my first lead role in a...</td>\n",
       "      <td>86</td>\n",
       "      <td>14</td>\n",
       "      <td>42</td>\n",
       "      <td>http://www.reddit.com/r/acting/comments/1j01fq...</td>\n",
       "      <td>NaN</td>\n",
       "      <td>...</td>\n",
       "      <td>False</td>\n",
       "      <td>http://f.thumbs.redditmedia.com/bTw0x0kykqPyAM...</td>\n",
       "      <td>t5_2qyft</td>\n",
       "      <td>False</td>\n",
       "      <td>NaN</td>\n",
       "      <td>NaN</td>\n",
       "      <td>False</td>\n",
       "      <td>t3_1j01fq</td>\n",
       "      <td>http://www.youtube.com/watch?v=wj3my7pZvdU</td>\n",
       "      <td>NaN</td>\n",
       "    </tr>\n",
       "    <tr>\n",
       "      <td>4</td>\n",
       "      <td>1.370393e+09</td>\n",
       "      <td>72</td>\n",
       "      <td>self.acting</td>\n",
       "      <td>1fouj6</td>\n",
       "      <td>I am a casting director. Ask me anything!</td>\n",
       "      <td>81</td>\n",
       "      <td>9</td>\n",
       "      <td>145</td>\n",
       "      <td>http://www.reddit.com/r/acting/comments/1fouj6...</td>\n",
       "      <td>NaN</td>\n",
       "      <td>...</td>\n",
       "      <td>False</td>\n",
       "      <td>self</td>\n",
       "      <td>t5_2qyft</td>\n",
       "      <td>False</td>\n",
       "      <td>NaN</td>\n",
       "      <td>NaN</td>\n",
       "      <td>True</td>\n",
       "      <td>t3_1fouj6</td>\n",
       "      <td>http://www.reddit.com/r/acting/comments/1fouj6...</td>\n",
       "      <td>NaN</td>\n",
       "    </tr>\n",
       "  </tbody>\n",
       "</table>\n",
       "<p>5 rows × 21 columns</p>\n",
       "</div>"
      ],
      "text/plain": [
       "    created_utc  score       domain      id  \\\n",
       "0  1.368719e+09    103  i.imgur.com  1egf72   \n",
       "1  1.349958e+09     94  youtube.com  11b0uu   \n",
       "2  1.371657e+09     86  i.imgur.com  1gnsny   \n",
       "3  1.374719e+09     72  youtube.com  1j01fq   \n",
       "4  1.370393e+09     72  self.acting  1fouj6   \n",
       "\n",
       "                                               title  ups  downs  \\\n",
       "0                       Resume basics from SAG-AFTRA  106      3   \n",
       "1           Bryan Cranston's advice for auditioning.  102      8   \n",
       "2  Ira Glass' advice to beginners: applies to pre...   94      8   \n",
       "3  Last year I wrapped on my first lead role in a...   86     14   \n",
       "4          I am a casting director. Ask me anything!   81      9   \n",
       "\n",
       "   num_comments                                          permalink selftext  \\\n",
       "0            19  http://www.reddit.com/r/acting/comments/1egf72...      NaN   \n",
       "1             9  http://www.reddit.com/r/acting/comments/11b0uu...      NaN   \n",
       "2            11  http://www.reddit.com/r/acting/comments/1gnsny...      NaN   \n",
       "3            42  http://www.reddit.com/r/acting/comments/1j01fq...      NaN   \n",
       "4           145  http://www.reddit.com/r/acting/comments/1fouj6...      NaN   \n",
       "\n",
       "   ... over_18                                          thumbnail  \\\n",
       "0  ...   False  http://c.thumbs.redditmedia.com/E7yGfjtJEzY0pi...   \n",
       "1  ...   False  http://b.thumbs.redditmedia.com/w7SVjYY4fQeC_z...   \n",
       "2  ...   False  http://b.thumbs.redditmedia.com/F4CfzoSa44Gnqu...   \n",
       "3  ...   False  http://f.thumbs.redditmedia.com/bTw0x0kykqPyAM...   \n",
       "4  ...   False                                               self   \n",
       "\n",
       "  subreddit_id edited link_flair_css_class  author_flair_css_class is_self  \\\n",
       "0     t5_2qyft  False                  NaN                     NaN   False   \n",
       "1     t5_2qyft  False                  NaN                     NaN   False   \n",
       "2     t5_2qyft  False                  NaN                     NaN   False   \n",
       "3     t5_2qyft  False                  NaN                     NaN   False   \n",
       "4     t5_2qyft  False                  NaN                     NaN    True   \n",
       "\n",
       "        name                                                url distinguished  \n",
       "0  t3_1egf72                     http://i.imgur.com/i7GPZci.jpg           NaN  \n",
       "1  t3_11b0uu  http://www.youtube.com/watch?feature=player_de...           NaN  \n",
       "2  t3_1gnsny                     http://i.imgur.com/NLuWaX3.jpg           NaN  \n",
       "3  t3_1j01fq         http://www.youtube.com/watch?v=wj3my7pZvdU           NaN  \n",
       "4  t3_1fouj6  http://www.reddit.com/r/acting/comments/1fouj6...           NaN  \n",
       "\n",
       "[5 rows x 21 columns]"
      ]
     },
     "execution_count": 65,
     "metadata": {},
     "output_type": "execute_result"
    }
   ],
   "source": [
    "acting_df = pd.read_csv(gpath+'/acting.csv')\n",
    "acting_df.head()"
   ]
  },
  {
   "cell_type": "code",
   "execution_count": 66,
   "metadata": {},
   "outputs": [
    {
     "data": {
      "text/plain": [
       "(1000, 21)"
      ]
     },
     "execution_count": 66,
     "metadata": {},
     "output_type": "execute_result"
    }
   ],
   "source": [
    "acting_df.shape"
   ]
  },
  {
   "cell_type": "code",
   "execution_count": 67,
   "metadata": {},
   "outputs": [],
   "source": [
    "acting_df.drop(labels=['domain', 'id', 'permalink', 'num_comments', 'over_18', 'thumbnail', 'created_utc', 'subreddit_id', 'edited', 'link_flair_css_class', 'author_flair_css_class', 'is_self', 'name', 'url', 'link_flair_text', 'distinguished'], inplace=True, axis=1)"
   ]
  },
  {
   "cell_type": "code",
   "execution_count": 68,
   "metadata": {},
   "outputs": [
    {
     "data": {
      "text/html": [
       "<div>\n",
       "<style scoped>\n",
       "    .dataframe tbody tr th:only-of-type {\n",
       "        vertical-align: middle;\n",
       "    }\n",
       "\n",
       "    .dataframe tbody tr th {\n",
       "        vertical-align: top;\n",
       "    }\n",
       "\n",
       "    .dataframe thead th {\n",
       "        text-align: right;\n",
       "    }\n",
       "</style>\n",
       "<table border=\"1\" class=\"dataframe\">\n",
       "  <thead>\n",
       "    <tr style=\"text-align: right;\">\n",
       "      <th></th>\n",
       "      <th>score</th>\n",
       "      <th>title</th>\n",
       "      <th>ups</th>\n",
       "      <th>downs</th>\n",
       "      <th>selftext</th>\n",
       "    </tr>\n",
       "  </thead>\n",
       "  <tbody>\n",
       "    <tr>\n",
       "      <td>0</td>\n",
       "      <td>103</td>\n",
       "      <td>Resume basics from SAG-AFTRA</td>\n",
       "      <td>106</td>\n",
       "      <td>3</td>\n",
       "      <td>NaN</td>\n",
       "    </tr>\n",
       "    <tr>\n",
       "      <td>1</td>\n",
       "      <td>94</td>\n",
       "      <td>Bryan Cranston's advice for auditioning.</td>\n",
       "      <td>102</td>\n",
       "      <td>8</td>\n",
       "      <td>NaN</td>\n",
       "    </tr>\n",
       "    <tr>\n",
       "      <td>2</td>\n",
       "      <td>86</td>\n",
       "      <td>Ira Glass' advice to beginners: applies to pre...</td>\n",
       "      <td>94</td>\n",
       "      <td>8</td>\n",
       "      <td>NaN</td>\n",
       "    </tr>\n",
       "    <tr>\n",
       "      <td>3</td>\n",
       "      <td>72</td>\n",
       "      <td>Last year I wrapped on my first lead role in a...</td>\n",
       "      <td>86</td>\n",
       "      <td>14</td>\n",
       "      <td>NaN</td>\n",
       "    </tr>\n",
       "    <tr>\n",
       "      <td>4</td>\n",
       "      <td>72</td>\n",
       "      <td>I am a casting director. Ask me anything!</td>\n",
       "      <td>81</td>\n",
       "      <td>9</td>\n",
       "      <td>NaN</td>\n",
       "    </tr>\n",
       "    <tr>\n",
       "      <td>...</td>\n",
       "      <td>...</td>\n",
       "      <td>...</td>\n",
       "      <td>...</td>\n",
       "      <td>...</td>\n",
       "      <td>...</td>\n",
       "    </tr>\n",
       "    <tr>\n",
       "      <td>995</td>\n",
       "      <td>5</td>\n",
       "      <td>Monologue - YouTube \\n1st upload, let me know ...</td>\n",
       "      <td>8</td>\n",
       "      <td>3</td>\n",
       "      <td>NaN</td>\n",
       "    </tr>\n",
       "    <tr>\n",
       "      <td>996</td>\n",
       "      <td>4</td>\n",
       "      <td>What does r/acting think of my voice acting de...</td>\n",
       "      <td>5</td>\n",
       "      <td>1</td>\n",
       "      <td>NaN</td>\n",
       "    </tr>\n",
       "    <tr>\n",
       "      <td>997</td>\n",
       "      <td>3</td>\n",
       "      <td>I am in the process of getting an agent, and s...</td>\n",
       "      <td>4</td>\n",
       "      <td>1</td>\n",
       "      <td>So, this has been a process going on for about...</td>\n",
       "    </tr>\n",
       "    <tr>\n",
       "      <td>998</td>\n",
       "      <td>4</td>\n",
       "      <td>Hey /acting, I would love feedback on my websi...</td>\n",
       "      <td>6</td>\n",
       "      <td>2</td>\n",
       "      <td>NaN</td>\n",
       "    </tr>\n",
       "    <tr>\n",
       "      <td>999</td>\n",
       "      <td>4</td>\n",
       "      <td>Got my first ever main role...Advice please?</td>\n",
       "      <td>6</td>\n",
       "      <td>2</td>\n",
       "      <td>A couple weeks ago I found out that I will be ...</td>\n",
       "    </tr>\n",
       "  </tbody>\n",
       "</table>\n",
       "<p>1000 rows × 5 columns</p>\n",
       "</div>"
      ],
      "text/plain": [
       "     score                                              title  ups  downs  \\\n",
       "0      103                       Resume basics from SAG-AFTRA  106      3   \n",
       "1       94           Bryan Cranston's advice for auditioning.  102      8   \n",
       "2       86  Ira Glass' advice to beginners: applies to pre...   94      8   \n",
       "3       72  Last year I wrapped on my first lead role in a...   86     14   \n",
       "4       72          I am a casting director. Ask me anything!   81      9   \n",
       "..     ...                                                ...  ...    ...   \n",
       "995      5  Monologue - YouTube \\n1st upload, let me know ...    8      3   \n",
       "996      4  What does r/acting think of my voice acting de...    5      1   \n",
       "997      3  I am in the process of getting an agent, and s...    4      1   \n",
       "998      4  Hey /acting, I would love feedback on my websi...    6      2   \n",
       "999      4       Got my first ever main role...Advice please?    6      2   \n",
       "\n",
       "                                              selftext  \n",
       "0                                                  NaN  \n",
       "1                                                  NaN  \n",
       "2                                                  NaN  \n",
       "3                                                  NaN  \n",
       "4                                                  NaN  \n",
       "..                                                 ...  \n",
       "995                                                NaN  \n",
       "996                                                NaN  \n",
       "997  So, this has been a process going on for about...  \n",
       "998                                                NaN  \n",
       "999  A couple weeks ago I found out that I will be ...  \n",
       "\n",
       "[1000 rows x 5 columns]"
      ]
     },
     "execution_count": 68,
     "metadata": {},
     "output_type": "execute_result"
    }
   ],
   "source": [
    "acting_df"
   ]
  },
  {
   "cell_type": "code",
   "execution_count": 69,
   "metadata": {},
   "outputs": [],
   "source": [
    "acting_df['selftext'].replace(np.nan, \"\", inplace=True)"
   ]
  },
  {
   "cell_type": "code",
   "execution_count": 70,
   "metadata": {},
   "outputs": [
    {
     "data": {
      "text/html": [
       "<div>\n",
       "<style scoped>\n",
       "    .dataframe tbody tr th:only-of-type {\n",
       "        vertical-align: middle;\n",
       "    }\n",
       "\n",
       "    .dataframe tbody tr th {\n",
       "        vertical-align: top;\n",
       "    }\n",
       "\n",
       "    .dataframe thead th {\n",
       "        text-align: right;\n",
       "    }\n",
       "</style>\n",
       "<table border=\"1\" class=\"dataframe\">\n",
       "  <thead>\n",
       "    <tr style=\"text-align: right;\">\n",
       "      <th></th>\n",
       "      <th>score</th>\n",
       "      <th>title</th>\n",
       "      <th>ups</th>\n",
       "      <th>downs</th>\n",
       "      <th>selftext</th>\n",
       "    </tr>\n",
       "  </thead>\n",
       "  <tbody>\n",
       "    <tr>\n",
       "      <td>0</td>\n",
       "      <td>103</td>\n",
       "      <td>Resume basics from SAG-AFTRA</td>\n",
       "      <td>106</td>\n",
       "      <td>3</td>\n",
       "      <td></td>\n",
       "    </tr>\n",
       "    <tr>\n",
       "      <td>1</td>\n",
       "      <td>94</td>\n",
       "      <td>Bryan Cranston's advice for auditioning.</td>\n",
       "      <td>102</td>\n",
       "      <td>8</td>\n",
       "      <td></td>\n",
       "    </tr>\n",
       "    <tr>\n",
       "      <td>2</td>\n",
       "      <td>86</td>\n",
       "      <td>Ira Glass' advice to beginners: applies to pre...</td>\n",
       "      <td>94</td>\n",
       "      <td>8</td>\n",
       "      <td></td>\n",
       "    </tr>\n",
       "    <tr>\n",
       "      <td>3</td>\n",
       "      <td>72</td>\n",
       "      <td>Last year I wrapped on my first lead role in a...</td>\n",
       "      <td>86</td>\n",
       "      <td>14</td>\n",
       "      <td></td>\n",
       "    </tr>\n",
       "    <tr>\n",
       "      <td>4</td>\n",
       "      <td>72</td>\n",
       "      <td>I am a casting director. Ask me anything!</td>\n",
       "      <td>81</td>\n",
       "      <td>9</td>\n",
       "      <td></td>\n",
       "    </tr>\n",
       "    <tr>\n",
       "      <td>...</td>\n",
       "      <td>...</td>\n",
       "      <td>...</td>\n",
       "      <td>...</td>\n",
       "      <td>...</td>\n",
       "      <td>...</td>\n",
       "    </tr>\n",
       "    <tr>\n",
       "      <td>995</td>\n",
       "      <td>5</td>\n",
       "      <td>Monologue - YouTube \\n1st upload, let me know ...</td>\n",
       "      <td>8</td>\n",
       "      <td>3</td>\n",
       "      <td></td>\n",
       "    </tr>\n",
       "    <tr>\n",
       "      <td>996</td>\n",
       "      <td>4</td>\n",
       "      <td>What does r/acting think of my voice acting de...</td>\n",
       "      <td>5</td>\n",
       "      <td>1</td>\n",
       "      <td></td>\n",
       "    </tr>\n",
       "    <tr>\n",
       "      <td>997</td>\n",
       "      <td>3</td>\n",
       "      <td>I am in the process of getting an agent, and s...</td>\n",
       "      <td>4</td>\n",
       "      <td>1</td>\n",
       "      <td>So, this has been a process going on for about...</td>\n",
       "    </tr>\n",
       "    <tr>\n",
       "      <td>998</td>\n",
       "      <td>4</td>\n",
       "      <td>Hey /acting, I would love feedback on my websi...</td>\n",
       "      <td>6</td>\n",
       "      <td>2</td>\n",
       "      <td></td>\n",
       "    </tr>\n",
       "    <tr>\n",
       "      <td>999</td>\n",
       "      <td>4</td>\n",
       "      <td>Got my first ever main role...Advice please?</td>\n",
       "      <td>6</td>\n",
       "      <td>2</td>\n",
       "      <td>A couple weeks ago I found out that I will be ...</td>\n",
       "    </tr>\n",
       "  </tbody>\n",
       "</table>\n",
       "<p>1000 rows × 5 columns</p>\n",
       "</div>"
      ],
      "text/plain": [
       "     score                                              title  ups  downs  \\\n",
       "0      103                       Resume basics from SAG-AFTRA  106      3   \n",
       "1       94           Bryan Cranston's advice for auditioning.  102      8   \n",
       "2       86  Ira Glass' advice to beginners: applies to pre...   94      8   \n",
       "3       72  Last year I wrapped on my first lead role in a...   86     14   \n",
       "4       72          I am a casting director. Ask me anything!   81      9   \n",
       "..     ...                                                ...  ...    ...   \n",
       "995      5  Monologue - YouTube \\n1st upload, let me know ...    8      3   \n",
       "996      4  What does r/acting think of my voice acting de...    5      1   \n",
       "997      3  I am in the process of getting an agent, and s...    4      1   \n",
       "998      4  Hey /acting, I would love feedback on my websi...    6      2   \n",
       "999      4       Got my first ever main role...Advice please?    6      2   \n",
       "\n",
       "                                              selftext  \n",
       "0                                                       \n",
       "1                                                       \n",
       "2                                                       \n",
       "3                                                       \n",
       "4                                                       \n",
       "..                                                 ...  \n",
       "995                                                     \n",
       "996                                                     \n",
       "997  So, this has been a process going on for about...  \n",
       "998                                                     \n",
       "999  A couple weeks ago I found out that I will be ...  \n",
       "\n",
       "[1000 rows x 5 columns]"
      ]
     },
     "execution_count": 70,
     "metadata": {},
     "output_type": "execute_result"
    }
   ],
   "source": [
    "acting_df"
   ]
  },
  {
   "cell_type": "code",
   "execution_count": 71,
   "metadata": {},
   "outputs": [],
   "source": [
    "acting_df['combined']=acting_df['title']+acting_df['selftext']"
   ]
  },
  {
   "cell_type": "code",
   "execution_count": 72,
   "metadata": {},
   "outputs": [
    {
     "data": {
      "text/html": [
       "<div>\n",
       "<style scoped>\n",
       "    .dataframe tbody tr th:only-of-type {\n",
       "        vertical-align: middle;\n",
       "    }\n",
       "\n",
       "    .dataframe tbody tr th {\n",
       "        vertical-align: top;\n",
       "    }\n",
       "\n",
       "    .dataframe thead th {\n",
       "        text-align: right;\n",
       "    }\n",
       "</style>\n",
       "<table border=\"1\" class=\"dataframe\">\n",
       "  <thead>\n",
       "    <tr style=\"text-align: right;\">\n",
       "      <th></th>\n",
       "      <th>score</th>\n",
       "      <th>title</th>\n",
       "      <th>ups</th>\n",
       "      <th>downs</th>\n",
       "      <th>selftext</th>\n",
       "      <th>combined</th>\n",
       "    </tr>\n",
       "  </thead>\n",
       "  <tbody>\n",
       "    <tr>\n",
       "      <td>0</td>\n",
       "      <td>103</td>\n",
       "      <td>Resume basics from SAG-AFTRA</td>\n",
       "      <td>106</td>\n",
       "      <td>3</td>\n",
       "      <td></td>\n",
       "      <td>Resume basics from SAG-AFTRA</td>\n",
       "    </tr>\n",
       "    <tr>\n",
       "      <td>1</td>\n",
       "      <td>94</td>\n",
       "      <td>Bryan Cranston's advice for auditioning.</td>\n",
       "      <td>102</td>\n",
       "      <td>8</td>\n",
       "      <td></td>\n",
       "      <td>Bryan Cranston's advice for auditioning.</td>\n",
       "    </tr>\n",
       "    <tr>\n",
       "      <td>2</td>\n",
       "      <td>86</td>\n",
       "      <td>Ira Glass' advice to beginners: applies to pre...</td>\n",
       "      <td>94</td>\n",
       "      <td>8</td>\n",
       "      <td></td>\n",
       "      <td>Ira Glass' advice to beginners: applies to pre...</td>\n",
       "    </tr>\n",
       "    <tr>\n",
       "      <td>3</td>\n",
       "      <td>72</td>\n",
       "      <td>Last year I wrapped on my first lead role in a...</td>\n",
       "      <td>86</td>\n",
       "      <td>14</td>\n",
       "      <td></td>\n",
       "      <td>Last year I wrapped on my first lead role in a...</td>\n",
       "    </tr>\n",
       "    <tr>\n",
       "      <td>4</td>\n",
       "      <td>72</td>\n",
       "      <td>I am a casting director. Ask me anything!</td>\n",
       "      <td>81</td>\n",
       "      <td>9</td>\n",
       "      <td></td>\n",
       "      <td>I am a casting director. Ask me anything!</td>\n",
       "    </tr>\n",
       "    <tr>\n",
       "      <td>...</td>\n",
       "      <td>...</td>\n",
       "      <td>...</td>\n",
       "      <td>...</td>\n",
       "      <td>...</td>\n",
       "      <td>...</td>\n",
       "      <td>...</td>\n",
       "    </tr>\n",
       "    <tr>\n",
       "      <td>995</td>\n",
       "      <td>5</td>\n",
       "      <td>Monologue - YouTube \\n1st upload, let me know ...</td>\n",
       "      <td>8</td>\n",
       "      <td>3</td>\n",
       "      <td></td>\n",
       "      <td>Monologue - YouTube \\n1st upload, let me know ...</td>\n",
       "    </tr>\n",
       "    <tr>\n",
       "      <td>996</td>\n",
       "      <td>4</td>\n",
       "      <td>What does r/acting think of my voice acting de...</td>\n",
       "      <td>5</td>\n",
       "      <td>1</td>\n",
       "      <td></td>\n",
       "      <td>What does r/acting think of my voice acting de...</td>\n",
       "    </tr>\n",
       "    <tr>\n",
       "      <td>997</td>\n",
       "      <td>3</td>\n",
       "      <td>I am in the process of getting an agent, and s...</td>\n",
       "      <td>4</td>\n",
       "      <td>1</td>\n",
       "      <td>So, this has been a process going on for about...</td>\n",
       "      <td>I am in the process of getting an agent, and s...</td>\n",
       "    </tr>\n",
       "    <tr>\n",
       "      <td>998</td>\n",
       "      <td>4</td>\n",
       "      <td>Hey /acting, I would love feedback on my websi...</td>\n",
       "      <td>6</td>\n",
       "      <td>2</td>\n",
       "      <td></td>\n",
       "      <td>Hey /acting, I would love feedback on my websi...</td>\n",
       "    </tr>\n",
       "    <tr>\n",
       "      <td>999</td>\n",
       "      <td>4</td>\n",
       "      <td>Got my first ever main role...Advice please?</td>\n",
       "      <td>6</td>\n",
       "      <td>2</td>\n",
       "      <td>A couple weeks ago I found out that I will be ...</td>\n",
       "      <td>Got my first ever main role...Advice please?A ...</td>\n",
       "    </tr>\n",
       "  </tbody>\n",
       "</table>\n",
       "<p>1000 rows × 6 columns</p>\n",
       "</div>"
      ],
      "text/plain": [
       "     score                                              title  ups  downs  \\\n",
       "0      103                       Resume basics from SAG-AFTRA  106      3   \n",
       "1       94           Bryan Cranston's advice for auditioning.  102      8   \n",
       "2       86  Ira Glass' advice to beginners: applies to pre...   94      8   \n",
       "3       72  Last year I wrapped on my first lead role in a...   86     14   \n",
       "4       72          I am a casting director. Ask me anything!   81      9   \n",
       "..     ...                                                ...  ...    ...   \n",
       "995      5  Monologue - YouTube \\n1st upload, let me know ...    8      3   \n",
       "996      4  What does r/acting think of my voice acting de...    5      1   \n",
       "997      3  I am in the process of getting an agent, and s...    4      1   \n",
       "998      4  Hey /acting, I would love feedback on my websi...    6      2   \n",
       "999      4       Got my first ever main role...Advice please?    6      2   \n",
       "\n",
       "                                              selftext  \\\n",
       "0                                                        \n",
       "1                                                        \n",
       "2                                                        \n",
       "3                                                        \n",
       "4                                                        \n",
       "..                                                 ...   \n",
       "995                                                      \n",
       "996                                                      \n",
       "997  So, this has been a process going on for about...   \n",
       "998                                                      \n",
       "999  A couple weeks ago I found out that I will be ...   \n",
       "\n",
       "                                              combined  \n",
       "0                         Resume basics from SAG-AFTRA  \n",
       "1             Bryan Cranston's advice for auditioning.  \n",
       "2    Ira Glass' advice to beginners: applies to pre...  \n",
       "3    Last year I wrapped on my first lead role in a...  \n",
       "4            I am a casting director. Ask me anything!  \n",
       "..                                                 ...  \n",
       "995  Monologue - YouTube \\n1st upload, let me know ...  \n",
       "996  What does r/acting think of my voice acting de...  \n",
       "997  I am in the process of getting an agent, and s...  \n",
       "998  Hey /acting, I would love feedback on my websi...  \n",
       "999  Got my first ever main role...Advice please?A ...  \n",
       "\n",
       "[1000 rows x 6 columns]"
      ]
     },
     "execution_count": 72,
     "metadata": {},
     "output_type": "execute_result"
    }
   ],
   "source": [
    "acting_df"
   ]
  },
  {
   "cell_type": "code",
   "execution_count": 73,
   "metadata": {},
   "outputs": [],
   "source": [
    "\n",
    "words_to_remove = stopwords.words('english')\n",
    "\n",
    "def tokenize(text):\n",
    "    cleaned = [re.sub(\"[^a-zA-Z]\", \"\", word) for word in text.lower().split() if not word in words_to_remove]\n",
    "    cleaned = [word for word in cleaned if len(word)]\n",
    "    return cleaned"
   ]
  },
  {
   "cell_type": "code",
   "execution_count": 74,
   "metadata": {},
   "outputs": [
    {
     "data": {
      "text/plain": [
       "['ira',\n",
       " 'glass',\n",
       " 'advice',\n",
       " 'beginners',\n",
       " 'applies',\n",
       " 'pretty',\n",
       " 'much',\n",
       " 'creative',\n",
       " 'endeavor']"
      ]
     },
     "execution_count": 74,
     "metadata": {},
     "output_type": "execute_result"
    }
   ],
   "source": [
    "tokenize(acting_df['title'][2])"
   ]
  },
  {
   "cell_type": "code",
   "execution_count": 75,
   "metadata": {},
   "outputs": [],
   "source": [
    "X = acting_df['combined']\n",
    "y = acting_df['score']"
   ]
  },
  {
   "cell_type": "code",
   "execution_count": 76,
   "metadata": {},
   "outputs": [],
   "source": [
    "vectorizer = CountVectorizer(analyzer=tokenize, max_features=1000).fit(X)"
   ]
  },
  {
   "cell_type": "code",
   "execution_count": 77,
   "metadata": {},
   "outputs": [
    {
     "name": "stdout",
     "output_type": "stream",
     "text": [
      "1000\n"
     ]
    }
   ],
   "source": [
    "print(len(vectorizer.vocabulary_))"
   ]
  },
  {
   "cell_type": "code",
   "execution_count": 78,
   "metadata": {},
   "outputs": [],
   "source": [
    "X = vectorizer.transform(X)"
   ]
  },
  {
   "cell_type": "code",
   "execution_count": 79,
   "metadata": {},
   "outputs": [
    {
     "name": "stdout",
     "output_type": "stream",
     "text": [
      "(800, 1000) (800,) (200, 1000) (200,)\n"
     ]
    }
   ],
   "source": [
    "x_train, x_test, y_train, y_test = train_test_split(X, y, test_size=0.2)\n",
    "print(x_train.shape, y_train.shape, x_test.shape, y_test.shape)"
   ]
  },
  {
   "cell_type": "markdown",
   "metadata": {},
   "source": [
    "## Linear Regression(Baseline)"
   ]
  },
  {
   "cell_type": "code",
   "execution_count": 80,
   "metadata": {},
   "outputs": [
    {
     "data": {
      "text/plain": [
       "LinearRegression()"
      ]
     },
     "execution_count": 80,
     "metadata": {},
     "output_type": "execute_result"
    }
   ],
   "source": [
    "model = linear_model.LinearRegression(fit_intercept=True)\n",
    "model.fit(x_train, y_train)"
   ]
  },
  {
   "cell_type": "code",
   "execution_count": 81,
   "metadata": {},
   "outputs": [
    {
     "name": "stdout",
     "output_type": "stream",
     "text": [
      "200\n"
     ]
    }
   ],
   "source": [
    "preds = model.predict(x_test)\n",
    "print(len(preds))"
   ]
  },
  {
   "cell_type": "code",
   "execution_count": 82,
   "metadata": {},
   "outputs": [
    {
     "name": "stdout",
     "output_type": "stream",
     "text": [
      "185.29000388880505\n"
     ]
    }
   ],
   "source": [
    "from sklearn.metrics import mean_squared_error\n",
    "rms_err = np.sqrt(mean_squared_error(preds, y_test))\n",
    "print(rms_err)"
   ]
  },
  {
   "cell_type": "code",
   "execution_count": 83,
   "metadata": {},
   "outputs": [
    {
     "name": "stdout",
     "output_type": "stream",
     "text": [
      "[-10.98355374053979, -178.4570319333274, -187.8745028301804, -85.6066254092212, 2.365842322406081, 32.06489868748427, 56.760672178501665, -174.49526986591422, -99.71934621663006, -46.262368484339646, -300.86143151569485, 14.426011252180864, 199.81593789565005, 5.9364577048278395, 598.6842677598047, -334.35179753435614, 118.38345542678518, -128.6993783412414, 13.20029531978381, 231.1565396828696, -204.78147536268136, 331.5011948015335, -346.978442430451, 121.91816507827672, 282.47069638457816, 85.41579194873925, -12.201830141577947, 6.668386837810864, 698.5364196392095, 226.77519091960056, -214.6671193447329, 263.8569185451286, 82.52891367067095, -19.92176865102742, 86.96870130001943, 16.0635468862546, 451.4336552899429, 471.40779340094764, 42.11197200852899, -15.534000875338137, -67.70448226536932, -71.50634606816429, 9.787090560115875, 11.964195992827841, 33.74068980100469, -23.605948754094264, 413.1512669852247, 100.143616895831, -35.82255520257791, -143.00336177272362, 56.800946379192254, 164.9313966066298, 80.4795818606854, -50.04823796778264, 43.85278521367269, 51.165841228646585, 164.9765540362062, -34.6377728299983, 56.42906453088628, 58.178990051054846, 81.89214991566543, 194.404640730668, -25.608940254290246, -104.24113093539003, 249.40382999059494, 10.85029764475614, -56.77146524420837, 210.45306073507874, 39.788552798595674, -171.18038282105948, -58.19819745526185, 89.46990569390262, -53.02960701082658, -403.5787877249677, -18.70746539126082, -55.08489740349735, -55.776822765170266, -56.457936791473244, -22.89207217944532, 259.37356268233947, 715.8228745156131, -129.47831781244804, 66.57544309624234, 130.42647473790544, -124.23633996750492, 109.81721451213383, 158.5127829488522, 333.16256536933366, 78.91773689457978, 65.02610421729784, -374.2022119980453, 70.29831685739228, 32.288276350340105, 45.66967182661201, 39.69775141287833, -230.21594704901912, -20.291006610281926, -95.71973025416122, 2.4922000986833304, 87.84165117172594, 380.07853373236236, -7.788902103500639, 27.75044556562722, -23.830910056840544, -259.8166231889498, 65.28653148106764, 30.22676654885001, -48.215031732497295, -131.19937123297547, -521.4186157416138, 73.90277219334978, 278.9143817874833, 62.011753421217946, 88.95071563543034, 177.58232959360703, -249.47289523926713, 114.65363621555151, 32.54409205502818, 9.959050879410427, 168.51194342347975, 1.205522899155877, -190.00359657306848, 40.21928791969705, -82.82969971975919, -481.2468186774179, 39.013034588472266, 193.2539836140732, 98.58914309640582, 315.49601220667955, -194.3399361726091, 54.59129561713573, -11.043730266601038, -53.49052703685048, -218.48585772991066, -100.12764515144369, 30.011297556521132, 74.49576971288495, 6.724798022312214, -312.718878477529, 22.74287758590344, 214.53115174463267, 60.963208934654396, 140.261585928525, 121.03562535570457, -6.61370869836842, -248.85170653557662, 0.7522969325678819, -88.16843846235798, -3.1012415144313756, -33.54807920206318, -65.25067276568014, -27.28705557337406, -340.3803491944601, 155.27214081363303, -38.197965854678614, -2.5736106525805695, 123.41525156502205, 168.92881004563503, -17.756054141122696, 149.17035010448018, -154.1591614479152, -108.21501982274218, 58.72703111077533, 40.64688097033716, -18.680019153939305, 114.04718969465098, -191.64900733072204, -9.47624425864285, 335.43007165618974, -178.57353787445197, 97.72878342059052, -621.1601609501142, -64.41035050050071, 177.8199891862991, -162.05836476264665, -145.0533240081084, 163.88708701809242, -134.04052468415978, -9.147437420392272, 21.268367711310596, 152.0433213602355, -159.64727391241877, 86.24738346418086, -3.342311777994972, -51.51258731559754, 82.35716379443534, -142.18266560436996, -3.117158280871937, 91.97933965408204, 244.86640794045502, -55.47885843970704, 80.52464729695299, 319.07658120273385, 138.65931308205398, 327.2881977174158, 378.04766381515213, 10.540576750454504, -28.258221797655466, -89.2704923592272, 52.02693488298169]\n"
     ]
    }
   ],
   "source": [
    "print(list(preds))"
   ]
  },
  {
   "cell_type": "code",
   "execution_count": 84,
   "metadata": {},
   "outputs": [
    {
     "data": {
      "image/png": "[encoded data removed]",
      "text/plain": [
       "<Figure size 432x288 with 1 Axes>"
      ]
     },
     "metadata": {
      "needs_background": "light"
     },
     "output_type": "display_data"
    },
    {
     "data": {
      "image/png": "[encoded data removed]",
      "text/plain": [
       "<Figure size 1296x432 with 1 Axes>"
      ]
     },
     "metadata": {
      "needs_background": "light"
     },
     "output_type": "display_data"
    }
   ],
   "source": [
    "plt.title(\"Linear Regression Predictions\")\n",
    "plt.figure(figsize=(18,6))\n",
    "plt.plot(range(200), list(y_test), label='ground truth')\n",
    "plt.plot(range(200), list(preds), label='Linear Regression')\n",
    "plt.legend()\n",
    "plt.show()"
   ]
  },
  {
   "cell_type": "markdown",
   "metadata": {},
   "source": [
    "## Random Forest"
   ]
  },
  {
   "cell_type": "code",
   "execution_count": 85,
   "metadata": {},
   "outputs": [
    {
     "data": {
      "text/plain": [
       "RandomForestRegressor()"
      ]
     },
     "execution_count": 85,
     "metadata": {},
     "output_type": "execute_result"
    }
   ],
   "source": [
    "randomforest = RandomForestRegressor()\n",
    "randomforest.fit(x_train, y_train)"
   ]
  },
  {
   "cell_type": "code",
   "execution_count": 86,
   "metadata": {},
   "outputs": [],
   "source": [
    "forestpreds = randomforest.predict(x_test)"
   ]
  },
  {
   "cell_type": "code",
   "execution_count": 87,
   "metadata": {},
   "outputs": [
    {
     "name": "stdout",
     "output_type": "stream",
     "text": [
      "10.767592940197622\n"
     ]
    }
   ],
   "source": [
    "rms_err = np.sqrt(mean_squared_error(forestpreds, y_test))\n",
    "print(rms_err)"
   ]
  },
  {
   "cell_type": "code",
   "execution_count": 88,
   "metadata": {},
   "outputs": [
    {
     "data": {
      "image/png": "[encoded data removed]",
      "text/plain": [
       "<Figure size 1296x432 with 1 Axes>"
      ]
     },
     "metadata": {
      "needs_background": "light"
     },
     "output_type": "display_data"
    }
   ],
   "source": [
    "plt.figure(figsize=(18,6))\n",
    "plt.plot(range(200), list(y_test), label='ground truth')\n",
    "plt.plot(range(200), list(forestpreds), label='Random Forest')\n",
    "plt.legend()\n",
    "plt.show()"
   ]
  },
  {
   "cell_type": "markdown",
   "metadata": {},
   "source": [
    "## Neural Network(Deep Learning)"
   ]
  },
  {
   "cell_type": "code",
   "execution_count": 89,
   "metadata": {},
   "outputs": [
    {
     "name": "stdout",
     "output_type": "stream",
     "text": [
      "<class 'scipy.sparse.csr.csr_matrix'>\n",
      "[[0 0 0 ... 0 0 0]\n",
      " [0 0 0 ... 0 0 0]\n",
      " [0 0 0 ... 0 0 0]\n",
      " ...\n",
      " [0 0 0 ... 0 0 0]\n",
      " [0 0 1 ... 0 0 0]\n",
      " [0 0 1 ... 1 0 0]]\n"
     ]
    }
   ],
   "source": [
    "print(type(x_train))\n",
    "x_train = x_train.toarray()\n",
    "print(x_train)"
   ]
  },
  {
   "cell_type": "code",
   "execution_count": 90,
   "metadata": {},
   "outputs": [
    {
     "name": "stdout",
     "output_type": "stream",
     "text": [
      "800\n",
      "1000\n"
     ]
    }
   ],
   "source": [
    "print(len(x_train))\n",
    "print(len(x_train[0]))"
   ]
  },
  {
   "cell_type": "code",
   "execution_count": 91,
   "metadata": {},
   "outputs": [
    {
     "name": "stdout",
     "output_type": "stream",
     "text": [
      "Model: \"sequential_2\"\n",
      "_________________________________________________________________\n",
      "Layer (type)                 Output Shape              Param #   \n",
      "=================================================================\n",
      "embedding_2 (Embedding)      (None, 1000, 64)          64000     \n",
      "_________________________________________________________________\n",
      "max_pooling1d_2 (MaxPooling1 (None, 500, 64)           0         \n",
      "_________________________________________________________________\n",
      "dense_6 (Dense)              (None, 500, 64)           4160      \n",
      "_________________________________________________________________\n",
      "dropout_2 (Dropout)          (None, 500, 64)           0         \n",
      "_________________________________________________________________\n",
      "flatten_2 (Flatten)          (None, 32000)             0         \n",
      "_________________________________________________________________\n",
      "dense_7 (Dense)              (None, 256)               8192256   \n",
      "_________________________________________________________________\n",
      "activation_2 (Activation)    (None, 256)               0         \n",
      "_________________________________________________________________\n",
      "dense_8 (Dense)              (None, 1)                 257       \n",
      "=================================================================\n",
      "Total params: 8,260,673\n",
      "Trainable params: 8,260,673\n",
      "Non-trainable params: 0\n",
      "_________________________________________________________________\n"
     ]
    }
   ],
   "source": [
    "import keras\n",
    "from keras.models import Sequential\n",
    "from keras.layers import Flatten, Conv1D, Dense, MaxPooling1D, Activation, Embedding, Dropout\n",
    "\n",
    "nnmodel = Sequential()\n",
    "\n",
    "nnmodel.add(Embedding(1000, 64, input_length=1000))\n",
    "\n",
    "nnmodel.add(MaxPooling1D())\n",
    "\n",
    "#nnmodel.add(Conv1D(filters = 32, kernel_size = (3),padding = 'Same',activation ='relu', input_shape = (1, 1000, 1)))\n",
    "nnmodel.add(Dense(64))\n",
    "\n",
    "nnmodel.add(Dropout(0.5))\n",
    "\n",
    "#nnmodel.add(Conv1D(filters = 64, kernel_size = (3),padding = 'Same',activation ='relu'))\n",
    "\n",
    "nnmodel.add(Flatten())\n",
    "nnmodel.add(Dense(256))\n",
    "nnmodel.add(Activation('relu'))\n",
    "nnmodel.add(Dense(1, activation = \"linear\"))\n",
    "    \n",
    "\n",
    "nnmodel.summary()"
   ]
  },
  {
   "cell_type": "code",
   "execution_count": 92,
   "metadata": {},
   "outputs": [],
   "source": [
    "nnmodel.compile(loss='MSE',\n",
    "             optimizer='adam',\n",
    "             metrics=[tf.keras.metrics.RootMeanSquaredError()])"
   ]
  },
  {
   "cell_type": "code",
   "execution_count": 93,
   "metadata": {},
   "outputs": [
    {
     "name": "stdout",
     "output_type": "stream",
     "text": [
      "Epoch 1/10\n",
      "25/25 [==============================] - 2s 59ms/step - loss: 203.2435 - root_mean_squared_error: 14.1731\n",
      "Epoch 2/10\n",
      "25/25 [==============================] - 2s 63ms/step - loss: 138.4236 - root_mean_squared_error: 11.7453\n",
      "Epoch 3/10\n",
      "25/25 [==============================] - 2s 63ms/step - loss: 118.5270 - root_mean_squared_error: 10.8108\n",
      "Epoch 4/10\n",
      "25/25 [==============================] - 1s 59ms/step - loss: 128.1982 - root_mean_squared_error: 11.2658\n",
      "Epoch 5/10\n",
      "25/25 [==============================] - 1s 59ms/step - loss: 126.8135 - root_mean_squared_error: 11.2376\n",
      "Epoch 6/10\n",
      "25/25 [==============================] - 2s 60ms/step - loss: 121.4862 - root_mean_squared_error: 10.9600\n",
      "Epoch 7/10\n",
      "25/25 [==============================] - 2s 62ms/step - loss: 125.0745 - root_mean_squared_error: 11.1174\n",
      "Epoch 8/10\n",
      "25/25 [==============================] - 1s 56ms/step - loss: 92.6592 - root_mean_squared_error: 9.5390\n",
      "Epoch 9/10\n",
      "25/25 [==============================] - 1s 58ms/step - loss: 80.1904 - root_mean_squared_error: 8.9126\n",
      "Epoch 10/10\n",
      "25/25 [==============================] - 1s 57ms/step - loss: 94.0134 - root_mean_squared_error: 9.6556\n"
     ]
    }
   ],
   "source": [
    "history = nnmodel.fit(x_train, y_train, batch_size=32, epochs=10, verbose=1)"
   ]
  },
  {
   "cell_type": "code",
   "execution_count": 94,
   "metadata": {},
   "outputs": [
    {
     "name": "stdout",
     "output_type": "stream",
     "text": [
      "Loss on last epoch:  86.13958740234375\n"
     ]
    },
    {
     "data": {
      "image/png": "[encoded data removed]",
      "text/plain": [
       "<Figure size 432x288 with 1 Axes>"
      ]
     },
     "metadata": {
      "needs_background": "light"
     },
     "output_type": "display_data"
    }
   ],
   "source": [
    "plt.title(\"Neural Network Model Loss\")\n",
    "plt.plot(history.history['loss'])\n",
    "plt.ylabel(\"Loss\")\n",
    "plt.xlabel(\"Epoch\")\n",
    "print(\"Loss on last epoch: \", history.history['loss'][9])"
   ]
  },
  {
   "cell_type": "code",
   "execution_count": 95,
   "metadata": {},
   "outputs": [],
   "source": [
    "x_test = x_test.toarray()\n",
    "nnpreds = nnmodel.predict(x_test)"
   ]
  },
  {
   "cell_type": "code",
   "execution_count": 96,
   "metadata": {},
   "outputs": [
    {
     "data": {
      "image/png": "[encoded data removed]",
      "text/plain": [
       "<Figure size 1296x432 with 1 Axes>"
      ]
     },
     "metadata": {
      "needs_background": "light"
     },
     "output_type": "display_data"
    }
   ],
   "source": [
    "plt.figure(figsize=(18,6))\n",
    "plt.plot(range(200), list(y_test), label='ground truth')\n",
    "#plt.plot(range(200), list(forestpreds), label='Random Forest')\n",
    "plt.plot(range(200), list(nnpreds), label='Neural Network')\n",
    "plt.legend()\n",
    "plt.show()"
   ]
  },
  {
   "cell_type": "markdown",
   "metadata": {},
   "source": [
    "# Combined Data"
   ]
  },
  {
   "cell_type": "code",
   "execution_count": 108,
   "metadata": {},
   "outputs": [],
   "source": [
    "import pandas as pd\n",
    "import glob\n",
    "\n",
    "all_files = glob.glob(gpath + \"/*.csv\")\n",
    "\n",
    "li = []\n",
    "\n",
    "for filename in all_files:\n",
    "    df = pd.read_csv(filename, index_col=None, header=0)\n",
    "    li.append(df)\n",
    "\n",
    "frame = pd.concat(li, axis=0, ignore_index=True)"
   ]
  },
  {
   "cell_type": "code",
   "execution_count": 109,
   "metadata": {},
   "outputs": [
    {
     "data": {
      "text/plain": [
       "(2266098, 21)"
      ]
     },
     "execution_count": 109,
     "metadata": {},
     "output_type": "execute_result"
    }
   ],
   "source": [
    "frame.shape"
   ]
  },
  {
   "cell_type": "code",
   "execution_count": 110,
   "metadata": {},
   "outputs": [
    {
     "data": {
      "text/html": [
       "<div>\n",
       "<style scoped>\n",
       "    .dataframe tbody tr th:only-of-type {\n",
       "        vertical-align: middle;\n",
       "    }\n",
       "\n",
       "    .dataframe tbody tr th {\n",
       "        vertical-align: top;\n",
       "    }\n",
       "\n",
       "    .dataframe thead th {\n",
       "        text-align: right;\n",
       "    }\n",
       "</style>\n",
       "<table border=\"1\" class=\"dataframe\">\n",
       "  <thead>\n",
       "    <tr style=\"text-align: right;\">\n",
       "      <th></th>\n",
       "      <th>created_utc</th>\n",
       "      <th>score</th>\n",
       "      <th>domain</th>\n",
       "      <th>id</th>\n",
       "      <th>title</th>\n",
       "      <th>ups</th>\n",
       "      <th>downs</th>\n",
       "      <th>num_comments</th>\n",
       "      <th>permalink</th>\n",
       "      <th>selftext</th>\n",
       "      <th>...</th>\n",
       "      <th>over_18</th>\n",
       "      <th>thumbnail</th>\n",
       "      <th>subreddit_id</th>\n",
       "      <th>edited</th>\n",
       "      <th>link_flair_css_class</th>\n",
       "      <th>author_flair_css_class</th>\n",
       "      <th>is_self</th>\n",
       "      <th>name</th>\n",
       "      <th>url</th>\n",
       "      <th>distinguished</th>\n",
       "    </tr>\n",
       "  </thead>\n",
       "  <tbody>\n",
       "    <tr>\n",
       "      <td>0</td>\n",
       "      <td>1.339283e+09</td>\n",
       "      <td>537</td>\n",
       "      <td>self.ExplainLikeImCalvin</td>\n",
       "      <td>utspq</td>\n",
       "      <td>ELIC: How come I can't upvote any of the posts...</td>\n",
       "      <td>599</td>\n",
       "      <td>62</td>\n",
       "      <td>10</td>\n",
       "      <td>http://www.reddit.com/r/ExplainLikeImCalvin/co...</td>\n",
       "      <td>Because it builds character, that's why.</td>\n",
       "      <td>...</td>\n",
       "      <td>False</td>\n",
       "      <td>NaN</td>\n",
       "      <td>t5_2sp85</td>\n",
       "      <td>False</td>\n",
       "      <td>NaN</td>\n",
       "      <td>NaN</td>\n",
       "      <td>True</td>\n",
       "      <td>t3_utspq</td>\n",
       "      <td>http://www.reddit.com/r/ExplainLikeImCalvin/co...</td>\n",
       "      <td>NaN</td>\n",
       "    </tr>\n",
       "    <tr>\n",
       "      <td>1</td>\n",
       "      <td>1.338926e+09</td>\n",
       "      <td>543</td>\n",
       "      <td>self.ExplainLikeImCalvin</td>\n",
       "      <td>umlwz</td>\n",
       "      <td>Why are there holes in bricks?</td>\n",
       "      <td>651</td>\n",
       "      <td>108</td>\n",
       "      <td>171</td>\n",
       "      <td>http://www.reddit.com/r/ExplainLikeImCalvin/co...</td>\n",
       "      <td>I'm talking about the red bricks they make hou...</td>\n",
       "      <td>...</td>\n",
       "      <td>False</td>\n",
       "      <td>NaN</td>\n",
       "      <td>t5_2sp85</td>\n",
       "      <td>False</td>\n",
       "      <td>NaN</td>\n",
       "      <td>NaN</td>\n",
       "      <td>True</td>\n",
       "      <td>t3_umlwz</td>\n",
       "      <td>http://www.reddit.com/r/ExplainLikeImCalvin/co...</td>\n",
       "      <td>NaN</td>\n",
       "    </tr>\n",
       "    <tr>\n",
       "      <td>2</td>\n",
       "      <td>1.358382e+09</td>\n",
       "      <td>483</td>\n",
       "      <td>self.ExplainLikeImCalvin</td>\n",
       "      <td>16pvim</td>\n",
       "      <td>Some people here have obviously never read Cal...</td>\n",
       "      <td>529</td>\n",
       "      <td>46</td>\n",
       "      <td>32</td>\n",
       "      <td>http://www.reddit.com/r/ExplainLikeImCalvin/co...</td>\n",
       "      <td>Let me start off by saying that this is defini...</td>\n",
       "      <td>...</td>\n",
       "      <td>False</td>\n",
       "      <td>NaN</td>\n",
       "      <td>t5_2sp85</td>\n",
       "      <td>1358809924.0</td>\n",
       "      <td>NaN</td>\n",
       "      <td>NaN</td>\n",
       "      <td>True</td>\n",
       "      <td>t3_16pvim</td>\n",
       "      <td>http://www.reddit.com/r/ExplainLikeImCalvin/co...</td>\n",
       "      <td>NaN</td>\n",
       "    </tr>\n",
       "    <tr>\n",
       "      <td>3</td>\n",
       "      <td>1.332358e+09</td>\n",
       "      <td>278</td>\n",
       "      <td>self.ExplainLikeImCalvin</td>\n",
       "      <td>r76ts</td>\n",
       "      <td>So this is my default user style for this subr...</td>\n",
       "      <td>296</td>\n",
       "      <td>18</td>\n",
       "      <td>51</td>\n",
       "      <td>http://www.reddit.com/r/ExplainLikeImCalvin/co...</td>\n",
       "      <td>So I was bored and decided to use a user style...</td>\n",
       "      <td>...</td>\n",
       "      <td>False</td>\n",
       "      <td>NaN</td>\n",
       "      <td>t5_2sp85</td>\n",
       "      <td>False</td>\n",
       "      <td>NaN</td>\n",
       "      <td>NaN</td>\n",
       "      <td>True</td>\n",
       "      <td>t3_r76ts</td>\n",
       "      <td>http://www.reddit.com/r/ExplainLikeImCalvin/co...</td>\n",
       "      <td>NaN</td>\n",
       "    </tr>\n",
       "    <tr>\n",
       "      <td>4</td>\n",
       "      <td>1.350278e+09</td>\n",
       "      <td>264</td>\n",
       "      <td>self.ExplainLikeImCalvin</td>\n",
       "      <td>11hyqb</td>\n",
       "      <td>ELIC: If people are beautiful on the inside, w...</td>\n",
       "      <td>318</td>\n",
       "      <td>54</td>\n",
       "      <td>24</td>\n",
       "      <td>http://www.reddit.com/r/ExplainLikeImCalvin/co...</td>\n",
       "      <td>NaN</td>\n",
       "      <td>...</td>\n",
       "      <td>True</td>\n",
       "      <td>NaN</td>\n",
       "      <td>t5_2sp85</td>\n",
       "      <td>False</td>\n",
       "      <td>NaN</td>\n",
       "      <td>NaN</td>\n",
       "      <td>True</td>\n",
       "      <td>t3_11hyqb</td>\n",
       "      <td>http://www.reddit.com/r/ExplainLikeImCalvin/co...</td>\n",
       "      <td>NaN</td>\n",
       "    </tr>\n",
       "  </tbody>\n",
       "</table>\n",
       "<p>5 rows × 21 columns</p>\n",
       "</div>"
      ],
      "text/plain": [
       "    created_utc score                    domain      id  \\\n",
       "0  1.339283e+09   537  self.ExplainLikeImCalvin   utspq   \n",
       "1  1.338926e+09   543  self.ExplainLikeImCalvin   umlwz   \n",
       "2  1.358382e+09   483  self.ExplainLikeImCalvin  16pvim   \n",
       "3  1.332358e+09   278  self.ExplainLikeImCalvin   r76ts   \n",
       "4  1.350278e+09   264  self.ExplainLikeImCalvin  11hyqb   \n",
       "\n",
       "                                               title  ups downs num_comments  \\\n",
       "0  ELIC: How come I can't upvote any of the posts...  599    62           10   \n",
       "1                     Why are there holes in bricks?  651   108          171   \n",
       "2  Some people here have obviously never read Cal...  529    46           32   \n",
       "3  So this is my default user style for this subr...  296    18           51   \n",
       "4  ELIC: If people are beautiful on the inside, w...  318    54           24   \n",
       "\n",
       "                                           permalink  \\\n",
       "0  http://www.reddit.com/r/ExplainLikeImCalvin/co...   \n",
       "1  http://www.reddit.com/r/ExplainLikeImCalvin/co...   \n",
       "2  http://www.reddit.com/r/ExplainLikeImCalvin/co...   \n",
       "3  http://www.reddit.com/r/ExplainLikeImCalvin/co...   \n",
       "4  http://www.reddit.com/r/ExplainLikeImCalvin/co...   \n",
       "\n",
       "                                            selftext  ... over_18 thumbnail  \\\n",
       "0           Because it builds character, that's why.  ...   False       NaN   \n",
       "1  I'm talking about the red bricks they make hou...  ...   False       NaN   \n",
       "2  Let me start off by saying that this is defini...  ...   False       NaN   \n",
       "3  So I was bored and decided to use a user style...  ...   False       NaN   \n",
       "4                                                NaN  ...    True       NaN   \n",
       "\n",
       "  subreddit_id        edited link_flair_css_class author_flair_css_class  \\\n",
       "0     t5_2sp85         False                  NaN                    NaN   \n",
       "1     t5_2sp85         False                  NaN                    NaN   \n",
       "2     t5_2sp85  1358809924.0                  NaN                    NaN   \n",
       "3     t5_2sp85         False                  NaN                    NaN   \n",
       "4     t5_2sp85         False                  NaN                    NaN   \n",
       "\n",
       "  is_self       name                                                url  \\\n",
       "0    True   t3_utspq  http://www.reddit.com/r/ExplainLikeImCalvin/co...   \n",
       "1    True   t3_umlwz  http://www.reddit.com/r/ExplainLikeImCalvin/co...   \n",
       "2    True  t3_16pvim  http://www.reddit.com/r/ExplainLikeImCalvin/co...   \n",
       "3    True   t3_r76ts  http://www.reddit.com/r/ExplainLikeImCalvin/co...   \n",
       "4    True  t3_11hyqb  http://www.reddit.com/r/ExplainLikeImCalvin/co...   \n",
       "\n",
       "  distinguished  \n",
       "0           NaN  \n",
       "1           NaN  \n",
       "2           NaN  \n",
       "3           NaN  \n",
       "4           NaN  \n",
       "\n",
       "[5 rows x 21 columns]"
      ]
     },
     "execution_count": 110,
     "metadata": {},
     "output_type": "execute_result"
    }
   ],
   "source": [
    "frame.head()"
   ]
  },
  {
   "cell_type": "code",
   "execution_count": 111,
   "metadata": {},
   "outputs": [],
   "source": [
    "frame.drop(labels=['domain', 'id', 'permalink', 'num_comments', 'over_18', 'thumbnail', 'created_utc', 'subreddit_id', 'edited', 'link_flair_css_class', 'author_flair_css_class', 'is_self', 'name', 'url', 'link_flair_text', 'distinguished'], inplace=True, axis=1)"
   ]
  },
  {
   "cell_type": "code",
   "execution_count": 112,
   "metadata": {},
   "outputs": [],
   "source": [
    "frame = frame.replace(np.nan, '', regex=True)"
   ]
  },
  {
   "cell_type": "code",
   "execution_count": 113,
   "metadata": {},
   "outputs": [],
   "source": [
    "frame['combined']=frame['title']+frame['selftext']"
   ]
  },
  {
   "cell_type": "code",
   "execution_count": 114,
   "metadata": {},
   "outputs": [
    {
     "data": {
      "text/html": [
       "<div>\n",
       "<style scoped>\n",
       "    .dataframe tbody tr th:only-of-type {\n",
       "        vertical-align: middle;\n",
       "    }\n",
       "\n",
       "    .dataframe tbody tr th {\n",
       "        vertical-align: top;\n",
       "    }\n",
       "\n",
       "    .dataframe thead th {\n",
       "        text-align: right;\n",
       "    }\n",
       "</style>\n",
       "<table border=\"1\" class=\"dataframe\">\n",
       "  <thead>\n",
       "    <tr style=\"text-align: right;\">\n",
       "      <th></th>\n",
       "      <th>score</th>\n",
       "      <th>title</th>\n",
       "      <th>ups</th>\n",
       "      <th>downs</th>\n",
       "      <th>selftext</th>\n",
       "      <th>combined</th>\n",
       "    </tr>\n",
       "  </thead>\n",
       "  <tbody>\n",
       "    <tr>\n",
       "      <td>0</td>\n",
       "      <td>537</td>\n",
       "      <td>ELIC: How come I can't upvote any of the posts...</td>\n",
       "      <td>599</td>\n",
       "      <td>62</td>\n",
       "      <td>Because it builds character, that's why.</td>\n",
       "      <td>ELIC: How come I can't upvote any of the posts...</td>\n",
       "    </tr>\n",
       "    <tr>\n",
       "      <td>1</td>\n",
       "      <td>543</td>\n",
       "      <td>Why are there holes in bricks?</td>\n",
       "      <td>651</td>\n",
       "      <td>108</td>\n",
       "      <td>I'm talking about the red bricks they make hou...</td>\n",
       "      <td>Why are there holes in bricks?I'm talking abou...</td>\n",
       "    </tr>\n",
       "    <tr>\n",
       "      <td>2</td>\n",
       "      <td>483</td>\n",
       "      <td>Some people here have obviously never read Cal...</td>\n",
       "      <td>529</td>\n",
       "      <td>46</td>\n",
       "      <td>Let me start off by saying that this is defini...</td>\n",
       "      <td>Some people here have obviously never read Cal...</td>\n",
       "    </tr>\n",
       "    <tr>\n",
       "      <td>3</td>\n",
       "      <td>278</td>\n",
       "      <td>So this is my default user style for this subr...</td>\n",
       "      <td>296</td>\n",
       "      <td>18</td>\n",
       "      <td>So I was bored and decided to use a user style...</td>\n",
       "      <td>So this is my default user style for this subr...</td>\n",
       "    </tr>\n",
       "    <tr>\n",
       "      <td>4</td>\n",
       "      <td>264</td>\n",
       "      <td>ELIC: If people are beautiful on the inside, w...</td>\n",
       "      <td>318</td>\n",
       "      <td>54</td>\n",
       "      <td></td>\n",
       "      <td>ELIC: If people are beautiful on the inside, w...</td>\n",
       "    </tr>\n",
       "    <tr>\n",
       "      <td>5</td>\n",
       "      <td>232</td>\n",
       "      <td>ELIC: What's a hipster?</td>\n",
       "      <td>269</td>\n",
       "      <td>37</td>\n",
       "      <td></td>\n",
       "      <td>ELIC: What's a hipster?</td>\n",
       "    </tr>\n",
       "    <tr>\n",
       "      <td>6</td>\n",
       "      <td>223</td>\n",
       "      <td>A perfect example of Calvin's Dad doing what h...</td>\n",
       "      <td>259</td>\n",
       "      <td>36</td>\n",
       "      <td>http://www.gocomics.com/calvinandhobbes/2012/0...</td>\n",
       "      <td>A perfect example of Calvin's Dad doing what h...</td>\n",
       "    </tr>\n",
       "    <tr>\n",
       "      <td>7</td>\n",
       "      <td>191</td>\n",
       "      <td>Why is Calvinball not an Olympic sport? Who sh...</td>\n",
       "      <td>220</td>\n",
       "      <td>29</td>\n",
       "      <td></td>\n",
       "      <td>Why is Calvinball not an Olympic sport? Who sh...</td>\n",
       "    </tr>\n",
       "    <tr>\n",
       "      <td>8</td>\n",
       "      <td>195</td>\n",
       "      <td>ELIC - Why do I have to eat my vegetables?</td>\n",
       "      <td>209</td>\n",
       "      <td>14</td>\n",
       "      <td></td>\n",
       "      <td>ELIC - Why do I have to eat my vegetables?</td>\n",
       "    </tr>\n",
       "    <tr>\n",
       "      <td>9</td>\n",
       "      <td>158</td>\n",
       "      <td>LIC: How come pizza is delivered, but we have ...</td>\n",
       "      <td>172</td>\n",
       "      <td>14</td>\n",
       "      <td></td>\n",
       "      <td>LIC: How come pizza is delivered, but we have ...</td>\n",
       "    </tr>\n",
       "  </tbody>\n",
       "</table>\n",
       "</div>"
      ],
      "text/plain": [
       "   score                                              title  ups  downs  \\\n",
       "0    537  ELIC: How come I can't upvote any of the posts...  599     62   \n",
       "1    543                     Why are there holes in bricks?  651    108   \n",
       "2    483  Some people here have obviously never read Cal...  529     46   \n",
       "3    278  So this is my default user style for this subr...  296     18   \n",
       "4    264  ELIC: If people are beautiful on the inside, w...  318     54   \n",
       "5    232                            ELIC: What's a hipster?  269     37   \n",
       "6    223  A perfect example of Calvin's Dad doing what h...  259     36   \n",
       "7    191  Why is Calvinball not an Olympic sport? Who sh...  220     29   \n",
       "8    195         ELIC - Why do I have to eat my vegetables?  209     14   \n",
       "9    158  LIC: How come pizza is delivered, but we have ...  172     14   \n",
       "\n",
       "                                            selftext  \\\n",
       "0           Because it builds character, that's why.   \n",
       "1  I'm talking about the red bricks they make hou...   \n",
       "2  Let me start off by saying that this is defini...   \n",
       "3  So I was bored and decided to use a user style...   \n",
       "4                                                      \n",
       "5                                                      \n",
       "6  http://www.gocomics.com/calvinandhobbes/2012/0...   \n",
       "7                                                      \n",
       "8                                                      \n",
       "9                                                      \n",
       "\n",
       "                                            combined  \n",
       "0  ELIC: How come I can't upvote any of the posts...  \n",
       "1  Why are there holes in bricks?I'm talking abou...  \n",
       "2  Some people here have obviously never read Cal...  \n",
       "3  So this is my default user style for this subr...  \n",
       "4  ELIC: If people are beautiful on the inside, w...  \n",
       "5                            ELIC: What's a hipster?  \n",
       "6  A perfect example of Calvin's Dad doing what h...  \n",
       "7  Why is Calvinball not an Olympic sport? Who sh...  \n",
       "8         ELIC - Why do I have to eat my vegetables?  \n",
       "9  LIC: How come pizza is delivered, but we have ...  "
      ]
     },
     "execution_count": 114,
     "metadata": {},
     "output_type": "execute_result"
    }
   ],
   "source": [
    "frame.head(10)"
   ]
  },
  {
   "cell_type": "code",
   "execution_count": 115,
   "metadata": {},
   "outputs": [],
   "source": [
    "from sklearn.feature_extraction.text import HashingVectorizer\n",
    "\n",
    "X = frame['combined']\n",
    "y = frame['score']\n",
    "\n",
    "real_text = X\n",
    "metric_score = y\n",
    "\n",
    "x_train_ex, x_test_ex, y_train_ex, y_test_ex = train_test_split(real_text, metric_score, test_size = 0.2, random_state = 79)\n",
    "\n",
    "vectorizer = CountVectorizer(analyzer=tokenize, max_features = 1000).fit(X)\n"
   ]
  },
  {
   "cell_type": "code",
   "execution_count": 116,
   "metadata": {},
   "outputs": [
    {
     "name": "stdout",
     "output_type": "stream",
     "text": [
      "(1812878, 1000) (1812878,) (453220, 1000) (453220,)\n"
     ]
    }
   ],
   "source": [
    "X = vectorizer.transform(X)\n",
    "\n",
    "x_train, x_test, y_train, y_test = train_test_split(X, y, test_size=0.2, random_state = 79)\n",
    "print(x_train.shape, y_train.shape, x_test.shape, y_test.shape)"
   ]
  },
  {
   "cell_type": "markdown",
   "metadata": {},
   "source": [
    "## Linear Regression Model - All data"
   ]
  },
  {
   "cell_type": "code",
   "execution_count": 206,
   "metadata": {},
   "outputs": [
    {
     "name": "stdout",
     "output_type": "stream",
     "text": [
      "453220\n",
      "453220\n",
      "403.1127652851054\n"
     ]
    }
   ],
   "source": [
    "model = linear_model.LinearRegression(fit_intercept=True)\n",
    "model.fit(x_train, y_train)\n",
    "\n",
    "preds = model.predict(x_test)\n",
    "print(len(y_test))\n",
    "print(len(preds))\n",
    "\n",
    "from sklearn.metrics import mean_squared_error\n",
    "rms_err = np.sqrt(mean_squared_error(preds, y_test))\n",
    "print(rms_err)"
   ]
  },
  {
   "cell_type": "code",
   "execution_count": 207,
   "metadata": {},
   "outputs": [
    {
     "name": "stderr",
     "output_type": "stream",
     "text": [
      "/Users/junokim/opt/anaconda3/lib/python3.7/site-packages/IPython/core/pylabtools.py:128: UserWarning: Creating legend with loc=\"best\" can be slow with large amounts of data.\n",
      "  fig.canvas.print_figure(bytes_io, **kw)\n"
     ]
    },
    {
     "data": {
      "image/png": "[encoded data removed]",
      "text/plain": [
       "<Figure size 1296x432 with 1 Axes>"
      ]
     },
     "metadata": {
      "needs_background": "light"
     },
     "output_type": "display_data"
    }
   ],
   "source": [
    "plt.figure(figsize=(18,6))\n",
    "plt.plot(range(len(preds)), list(y_test), label='ground truth')\n",
    "plt.plot(range(len(preds)), list(preds), label='predictions')\n",
    "plt.legend()\n",
    "plt.show()"
   ]
  },
  {
   "cell_type": "markdown",
   "metadata": {},
   "source": [
    "## Random Forest Model - All data"
   ]
  },
  {
   "cell_type": "code",
   "execution_count": null,
   "metadata": {},
   "outputs": [
    {
     "name": "stdout",
     "output_type": "stream",
     "text": [
      "checkpoint\n"
     ]
    }
   ],
   "source": [
    "randomforest = RandomForestRegressor(max_depth = 1)\n",
    "print(\"checkpoint\")\n",
    "randomforest.fit(x_train, y_train)"
   ]
  },
  {
   "cell_type": "code",
   "execution_count": null,
   "metadata": {},
   "outputs": [],
   "source": [
    "forestpreds = randomforest.predict(x_test)\n",
    "print(\"checkpoint\")\n",
    "rms_err = np.sqrt(mean_squared_error(forestpreds, y_test))\n",
    "print(rms_err)"
   ]
  },
  {
   "cell_type": "code",
   "execution_count": null,
   "metadata": {},
   "outputs": [],
   "source": [
    "plt.figure(figsize=(18,6))\n",
    "plt.plot(range(len(forestpreds)), list(y_test), label='ground truth')\n",
    "plt.plot(range(len(forestpreds)), list(forestpreds), label='predictions')\n",
    "plt.legend()\n",
    "plt.show()"
   ]
  },
  {
   "cell_type": "markdown",
   "metadata": {},
   "source": [
    "## Neural Network Model - All data"
   ]
  },
  {
   "cell_type": "code",
   "execution_count": 117,
   "metadata": {},
   "outputs": [
    {
     "name": "stdout",
     "output_type": "stream",
     "text": [
      "<class 'scipy.sparse.csr.csr_matrix'>\n",
      "[[0 0 0 ... 0 0 0]\n",
      " [0 0 0 ... 0 0 0]\n",
      " [0 0 0 ... 0 0 0]\n",
      " ...\n",
      " [0 0 0 ... 0 0 0]\n",
      " [0 0 0 ... 0 0 0]\n",
      " [0 0 0 ... 0 0 0]]\n"
     ]
    }
   ],
   "source": [
    "print(type(x_train))\n",
    "x_train = x_train.toarray()\n",
    "print(x_train)"
   ]
  },
  {
   "cell_type": "code",
   "execution_count": 118,
   "metadata": {},
   "outputs": [
    {
     "name": "stdout",
     "output_type": "stream",
     "text": [
      "Model: \"sequential_3\"\n",
      "_________________________________________________________________\n",
      "Layer (type)                 Output Shape              Param #   \n",
      "=================================================================\n",
      "embedding_3 (Embedding)      (None, 1000, 64)          64000     \n",
      "_________________________________________________________________\n",
      "max_pooling1d_3 (MaxPooling1 (None, 500, 64)           0         \n",
      "_________________________________________________________________\n",
      "dense_9 (Dense)              (None, 500, 64)           4160      \n",
      "_________________________________________________________________\n",
      "dropout_3 (Dropout)          (None, 500, 64)           0         \n",
      "_________________________________________________________________\n",
      "flatten_3 (Flatten)          (None, 32000)             0         \n",
      "_________________________________________________________________\n",
      "dense_10 (Dense)             (None, 256)               8192256   \n",
      "_________________________________________________________________\n",
      "activation_3 (Activation)    (None, 256)               0         \n",
      "_________________________________________________________________\n",
      "dense_11 (Dense)             (None, 1)                 257       \n",
      "=================================================================\n",
      "Total params: 8,260,673\n",
      "Trainable params: 8,260,673\n",
      "Non-trainable params: 0\n",
      "_________________________________________________________________\n"
     ]
    }
   ],
   "source": [
    "import keras\n",
    "from keras.models import Sequential\n",
    "from keras.layers import Flatten, Conv1D, Dense, MaxPooling1D, Activation, Embedding, Dropout\n",
    "\n",
    "nnmodel = Sequential()\n",
    "\n",
    "nnmodel.add(Embedding(1000, 64, input_length=1000))\n",
    "\n",
    "nnmodel.add(MaxPooling1D())\n",
    "\n",
    "#nnmodel.add(Conv1D(filters = 32, kernel_size = (3),padding = 'Same',activation ='relu', input_shape = (1, 1000, 1)))\n",
    "nnmodel.add(Dense(64))\n",
    "\n",
    "nnmodel.add(Dropout(0.5))\n",
    "\n",
    "#nnmodel.add(Conv1D(filters = 64, kernel_size = (3),padding = 'Same',activation ='relu'))\n",
    "\n",
    "nnmodel.add(Flatten())\n",
    "nnmodel.add(Dense(256))\n",
    "nnmodel.add(Activation('relu'))\n",
    "nnmodel.add(Dense(1, activation = \"linear\"))\n",
    "    \n",
    "\n",
    "nnmodel.summary()"
   ]
  },
  {
   "cell_type": "code",
   "execution_count": 119,
   "metadata": {},
   "outputs": [],
   "source": [
    "nnmodel.compile(loss='MSE',\n",
    "             optimizer='adam',\n",
    "             metrics=[tf.keras.metrics.RootMeanSquaredError()])"
   ]
  },
  {
   "cell_type": "code",
   "execution_count": 120,
   "metadata": {},
   "outputs": [
    {
     "name": "stdout",
     "output_type": "stream",
     "text": [
      "28327/28327 [==============================] - 2200s 78ms/step - loss: 158728.5393 - root_mean_squared_error: 398.3973\n"
     ]
    }
   ],
   "source": [
    "history = nnmodel.fit(x_train, y_train, batch_size=64, epochs=1, verbose=1)"
   ]
  },
  {
   "cell_type": "code",
   "execution_count": 121,
   "metadata": {},
   "outputs": [
    {
     "name": "stdout",
     "output_type": "stream",
     "text": [
      "158245.515625\n"
     ]
    },
    {
     "data": {
      "image/png": "[encoded data removed]",
      "text/plain": [
       "<Figure size 432x288 with 1 Axes>"
      ]
     },
     "metadata": {
      "needs_background": "light"
     },
     "output_type": "display_data"
    }
   ],
   "source": [
    "plt.title(\"Neural Network Model Loss\")\n",
    "plt.plot(history.history['loss'])\n",
    "plt.ylabel(\"Loss\")\n",
    "plt.xlabel(\"Epoch\")\n",
    "print(history.history['loss'][0])"
   ]
  },
  {
   "cell_type": "code",
   "execution_count": 122,
   "metadata": {},
   "outputs": [],
   "source": [
    "x_test = x_test.toarray()\n",
    "nnpreds = nnmodel.predict(x_test)"
   ]
  },
  {
   "cell_type": "code",
   "execution_count": 123,
   "metadata": {},
   "outputs": [
    {
     "name": "stderr",
     "output_type": "stream",
     "text": [
      "/Users/junokim/opt/anaconda3/lib/python3.7/site-packages/IPython/core/pylabtools.py:128: UserWarning: Creating legend with loc=\"best\" can be slow with large amounts of data.\n",
      "  fig.canvas.print_figure(bytes_io, **kw)\n"
     ]
    },
    {
     "data": {
      "image/png": "[encoded data removed]",
      "text/plain": [
       "<Figure size 1296x432 with 1 Axes>"
      ]
     },
     "metadata": {
      "needs_background": "light"
     },
     "output_type": "display_data"
    }
   ],
   "source": [
    "plt.figure(figsize=(18,6))\n",
    "plt.plot(range(len(nnpreds)), list(y_test), label='ground truth')\n",
    "#plt.plot(range(200), list(forestpreds), label='Random Forest')\n",
    "plt.plot(range(len(nnpreds)), list(nnpreds), label='Neural Network')\n",
    "plt.legend()\n",
    "plt.show()"
   ]
  },
  {
   "cell_type": "markdown",
   "metadata": {},
   "source": [
    "### Saving RMSE Graph"
   ]
  },
  {
   "cell_type": "code",
   "execution_count": null,
   "metadata": {},
   "outputs": [],
   "source": [
    "#%matplotlib inline\n",
    "#import matplotlib.pyplot as plt\n",
    "\n",
    "#fig = plt.figure(figsize=(18, 6))\n",
    "#ax = fig.add_axes([0.1,0.1,0.75,0.75])\n",
    "#ax.set_title('RMSE of Models on Combined Data')\n",
    "#ax.set_ylabel('RMSE')\n",
    "#ax.set_xlabel('Model')\n",
    "#models = ['Linear','Random Forest', 'Neural Network']\n",
    "#rmse = [178.66, 13.22, 8.10]\n",
    "#rmse_combined = [402.61,405.19,394.26]\n",
    "#plt.bar(models, rmse_combined)\n",
    "#plt.savefig('RMSE-Model.png')"
   ]
  },
  {
   "cell_type": "code",
   "execution_count": null,
   "metadata": {},
   "outputs": [],
   "source": [
    "#plt.savefig('RMSE-Model.png')"
   ]
  },
  {
   "cell_type": "markdown",
   "metadata": {},
   "source": [
    "Graph of 10 posts with upvote predictions"
   ]
  },
  {
   "cell_type": "code",
   "execution_count": 132,
   "metadata": {},
   "outputs": [
    {
     "name": "stdout",
     "output_type": "stream",
     "text": [
      "[ -10.98355374 -178.45703193 -187.87450283  -85.60662541    2.36584232\n",
      "   32.06489869   56.76067218 -174.49526987  -99.71934622  -46.26236848\n",
      " -300.86143152   14.42601125  199.8159379     5.9364577   598.68426776\n",
      " -334.35179753  118.38345543 -128.69937834   13.20029532  231.15653968\n",
      " -204.78147536  331.5011948  -346.97844243  121.91816508  282.47069638\n",
      "   85.41579195  -12.20183014    6.66838684  698.53641964  226.77519092\n",
      " -214.66711934  263.85691855   82.52891367  -19.92176865   86.9687013\n",
      "   16.06354689  451.43365529  471.4077934    42.11197201  -15.53400088\n",
      "  -67.70448227  -71.50634607    9.78709056   11.96419599   33.7406898\n",
      "  -23.60594875  413.15126699  100.1436169   -35.8225552  -143.00336177\n",
      "   56.80094638  164.93139661   80.47958186  -50.04823797   43.85278521\n",
      "   51.16584123  164.97655404  -34.63777283   56.42906453   58.17899005\n",
      "   81.89214992  194.40464073  -25.60894025 -104.24113094  249.40382999\n",
      "   10.85029764  -56.77146524  210.45306074   39.7885528  -171.18038282\n",
      "  -58.19819746   89.46990569  -53.02960701 -403.57878772  -18.70746539\n",
      "  -55.0848974   -55.77682277  -56.45793679  -22.89207218  259.37356268\n",
      "  715.82287452 -129.47831781   66.5754431   130.42647474 -124.23633997\n",
      "  109.81721451  158.51278295  333.16256537   78.91773689   65.02610422\n",
      " -374.202212     70.29831686   32.28827635   45.66967183   39.69775141\n",
      " -230.21594705  -20.29100661  -95.71973025    2.4922001    87.84165117\n",
      "  380.07853373   -7.7889021    27.75044557  -23.83091006 -259.81662319\n",
      "   65.28653148   30.22676655  -48.21503173 -131.19937123 -521.41861574\n",
      "   73.90277219  278.91438179   62.01175342   88.95071564  177.58232959\n",
      " -249.47289524  114.65363622   32.54409206    9.95905088  168.51194342\n",
      "    1.2055229  -190.00359657   40.21928792  -82.82969972 -481.24681868\n",
      "   39.01303459  193.25398361   98.5891431   315.49601221 -194.33993617\n",
      "   54.59129562  -11.04373027  -53.49052704 -218.48585773 -100.12764515\n",
      "   30.01129756   74.49576971    6.72479802 -312.71887848   22.74287759\n",
      "  214.53115174   60.96320893  140.26158593  121.03562536   -6.6137087\n",
      " -248.85170654    0.75229693  -88.16843846   -3.10124151  -33.5480792\n",
      "  -65.25067277  -27.28705557 -340.38034919  155.27214081  -38.19796585\n",
      "   -2.57361065  123.41525157  168.92881005  -17.75605414  149.1703501\n",
      " -154.15916145 -108.21501982   58.72703111   40.64688097  -18.68001915\n",
      "  114.04718969 -191.64900733   -9.47624426  335.43007166 -178.57353787\n",
      "   97.72878342 -621.16016095  -64.4103505   177.81998919 -162.05836476\n",
      " -145.05332401  163.88708702 -134.04052468   -9.14743742   21.26836771\n",
      "  152.04332136 -159.64727391   86.24738346   -3.34231178  -51.51258732\n",
      "   82.35716379 -142.1826656    -3.11715828   91.97933965  244.86640794\n",
      "  -55.47885844   80.5246473   319.0765812   138.65931308  327.28819772\n",
      "  378.04766382   10.54057675  -28.2582218   -89.27049236   52.02693488]\n"
     ]
    }
   ],
   "source": [
    "print(preds)"
   ]
  },
  {
   "cell_type": "code",
   "execution_count": 133,
   "metadata": {},
   "outputs": [
    {
     "name": "stdout",
     "output_type": "stream",
     "text": [
      "[23.04       13.31566667  8.32        8.64133333 18.13       10.88666667\n",
      "  8.44        9.26       20.64333333 10.85       16.74        7.8\n",
      " 21.21        9.61       15.65        6.7        11.73        8.38\n",
      " 16.23890476 12.76        8.31       14.4        33.42       18.48\n",
      " 10.44        5.91       10.74383333 14.41693651 16.34       22.01\n",
      "  8.58        8.44       32.11        6.88       20.11666667 15.17\n",
      " 15.72        7.66       13.82702381 10.17        6.5305      6.69\n",
      "  9.97745238 17.41242857 14.39421429 22.77        6.57       13.63\n",
      "  7.64       11.6         6.64        9.52        6.77        9.52\n",
      " 13.05       13.9549127  11.81       14.10292857 13.20419841  8.28\n",
      "  8.94860317 10.65       10.17650794 15.54       19.47766667 10.87\n",
      " 19.34666667 11.92        9.68038095  7.20571429  7.1575      8.1\n",
      " 20.45333333 11.09       33.64166667  6.17        7.3625     13.57\n",
      " 17.58583333 20.8        33.15        7.69        7.4         8.46\n",
      " 11.808       8.68345238 12.53       10.91       16.77       36.11333333\n",
      " 10.29       10.46        6.99       14.62       19.95666667 10.3\n",
      "  6.32        7.06       12.99840476 15.68        6.94        8.205\n",
      "  7.52       10.24        8.          9.73       16.28        8.7875\n",
      " 15.49416667 17.52        8.39       11.56        9.36880952 12.335\n",
      " 18.29        6.91       11.19       11.73       18.415       8.4\n",
      "  8.27566667 11.17        9.5        15.78       10.64       11.825\n",
      " 11.09       10.2        18.37       13.01       11.84        8.62\n",
      " 12.53666667 11.24       11.74983333 15.1375     26.93       16.63\n",
      " 11.91        7.6502381  11.5        26.86559524 17.69883333 12.81\n",
      " 10.62       12.54833333 11.57011905 22.18214286 12.93002381  7.4975\n",
      "  8.86        6.39857143  7.53       23.04       12.72583333  5.72833333\n",
      " 48.22       11.31        9.0892619  18.67        7.26        7.72266667\n",
      " 16.03966667 13.1432619   9.38788889  9.84       19.83        9.27\n",
      " 18.98        9.34       10.68       21.62266667  9.85        8.16\n",
      "  7.74       13.27        5.46       19.52       14.43693651 26.06938095\n",
      "  5.97       13.3775     10.83010317 21.12155556 13.64185714 11.24\n",
      "  6.61       18.329      11.57        9.59        9.83       12.21921429\n",
      "  8.73        7.12666667 11.44       21.06        9.24        9.05\n",
      "  7.68        8.59      ]\n"
     ]
    }
   ],
   "source": [
    "print(forestpreds)"
   ]
  },
  {
   "cell_type": "code",
   "execution_count": 134,
   "metadata": {},
   "outputs": [
    {
     "name": "stdout",
     "output_type": "stream",
     "text": [
      "[[103.64965 ]\n",
      " [202.53658 ]\n",
      " [176.84526 ]\n",
      " ...\n",
      " [169.74171 ]\n",
      " [129.05104 ]\n",
      " [  3.919554]]\n"
     ]
    }
   ],
   "source": [
    "print(nnpreds)"
   ]
  },
  {
   "cell_type": "code",
   "execution_count": 135,
   "metadata": {},
   "outputs": [],
   "source": [
    "real = y_test"
   ]
  },
  {
   "cell_type": "code",
   "execution_count": 136,
   "metadata": {},
   "outputs": [],
   "source": [
    "real = real.to_numpy()"
   ]
  },
  {
   "cell_type": "code",
   "execution_count": 137,
   "metadata": {},
   "outputs": [
    {
     "name": "stdout",
     "output_type": "stream",
     "text": [
      "<class 'numpy.ndarray'>\n"
     ]
    }
   ],
   "source": [
    "print(type(real))"
   ]
  },
  {
   "cell_type": "code",
   "execution_count": 202,
   "metadata": {},
   "outputs": [
    {
     "name": "stdout",
     "output_type": "stream",
     "text": [
      "(453220,)\n"
     ]
    }
   ],
   "source": [
    "print(real.shape)"
   ]
  },
  {
   "cell_type": "code",
   "execution_count": 201,
   "metadata": {},
   "outputs": [
    {
     "name": "stdout",
     "output_type": "stream",
     "text": [
      "(200,)\n"
     ]
    }
   ],
   "source": [
    "print(preds.shape)"
   ]
  },
  {
   "cell_type": "code",
   "execution_count": 203,
   "metadata": {},
   "outputs": [
    {
     "name": "stdout",
     "output_type": "stream",
     "text": [
      "(200,)\n"
     ]
    }
   ],
   "source": [
    "print(forestpreds.shape)"
   ]
  },
  {
   "cell_type": "code",
   "execution_count": 204,
   "metadata": {},
   "outputs": [
    {
     "name": "stdout",
     "output_type": "stream",
     "text": [
      "(453220, 1)\n"
     ]
    }
   ],
   "source": [
    "print(nnpreds.shape)"
   ]
  },
  {
   "cell_type": "code",
   "execution_count": 185,
   "metadata": {},
   "outputs": [
    {
     "name": "stdout",
     "output_type": "stream",
     "text": [
      "(453220,)\n"
     ]
    }
   ],
   "source": [
    "print(real.shape)"
   ]
  },
  {
   "cell_type": "code",
   "execution_count": 205,
   "metadata": {},
   "outputs": [
    {
     "name": "stdout",
     "output_type": "stream",
     "text": [
      "(453220, 1000)\n"
     ]
    }
   ],
   "source": [
    "print(x_test.shape)"
   ]
  },
  {
   "cell_type": "code",
   "execution_count": 148,
   "metadata": {},
   "outputs": [
    {
     "name": "stdout",
     "output_type": "stream",
     "text": [
      "1246315    Took 5 hits of acid 20 mins agochilling at my ...\n",
      "952854                                  Am I doing it right?\n",
      "2096952                     Plants and Animals of Enochronia\n",
      "346625     Above &amp; Beyond vs Audien - Alchemy Wayfare...\n",
      "1873443    US - Complete a short consumer behavior study ...\n",
      "                                 ...                        \n",
      "1814492    [Season 3 spoilers] Full Emmy Panel 2013 with ...\n",
      "2033808                             CHIRP CHIRP MOTHERFUCKER\n",
      "183513          Can someone critique my logo design? Thanks.\n",
      "2022833    CWM: A commandline program to test and train c...\n",
      "1606186    Nexus 4 Non-Flip Wallet CaseThere seem to be l...\n",
      "Name: combined, Length: 453220, dtype: object\n"
     ]
    }
   ],
   "source": [
    "print(x_test_ex)"
   ]
  },
  {
   "cell_type": "code",
   "execution_count": 166,
   "metadata": {},
   "outputs": [
    {
     "name": "stdout",
     "output_type": "stream",
     "text": [
      "<bound method Index.unique of Int64Index([1246315,  952854, 2096952,  346625, 1873443, 1926247, 2118398,\n",
      "             390738, 1733991,  133424,\n",
      "            ...\n",
      "            1757754, 1684441, 2184930, 1703596, 1429795, 1814492, 2033808,\n",
      "             183513, 2022833, 1606186],\n",
      "           dtype='int64', length=453220)>\n"
     ]
    }
   ],
   "source": [
    "print(x_test_ex.keys().unique)"
   ]
  },
  {
   "cell_type": "code",
   "execution_count": 199,
   "metadata": {},
   "outputs": [
    {
     "name": "stdout",
     "output_type": "stream",
     "text": [
      "227458\n",
      "text:  MIT Scientist Captures 90,000 Hours of Video of His Son's First Words, Graphs It\n",
      "real:  5\n"
     ]
    },
    {
     "ename": "IndexError",
     "evalue": "index 227458 is out of bounds for axis 0 with size 200",
     "output_type": "error",
     "traceback": [
      "\u001b[0;31m---------------------------------------------------------------------------\u001b[0m",
      "\u001b[0;31mIndexError\u001b[0m                                Traceback (most recent call last)",
      "\u001b[0;32m<ipython-input-199-dfc08c5e5226>\u001b[0m in \u001b[0;36m<module>\u001b[0;34m\u001b[0m\n\u001b[1;32m      6\u001b[0m     \u001b[0mprint\u001b[0m\u001b[0;34m(\u001b[0m\u001b[0;34m\"text: \"\u001b[0m\u001b[0;34m,\u001b[0m \u001b[0mx_test_ex\u001b[0m\u001b[0;34m[\u001b[0m\u001b[0mind\u001b[0m\u001b[0;34m]\u001b[0m\u001b[0;34m)\u001b[0m\u001b[0;34m\u001b[0m\u001b[0;34m\u001b[0m\u001b[0m\n\u001b[1;32m      7\u001b[0m     \u001b[0mprint\u001b[0m\u001b[0;34m(\u001b[0m\u001b[0;34m\"real: \"\u001b[0m\u001b[0;34m,\u001b[0m \u001b[0mreal\u001b[0m\u001b[0;34m[\u001b[0m\u001b[0mind\u001b[0m\u001b[0;34m]\u001b[0m\u001b[0;34m)\u001b[0m\u001b[0;34m\u001b[0m\u001b[0;34m\u001b[0m\u001b[0m\n\u001b[0;32m----> 8\u001b[0;31m     \u001b[0mprint\u001b[0m\u001b[0;34m(\u001b[0m\u001b[0;34m\"baseline: \"\u001b[0m\u001b[0;34m,\u001b[0m \u001b[0mpreds\u001b[0m\u001b[0;34m[\u001b[0m\u001b[0mind\u001b[0m\u001b[0;34m]\u001b[0m\u001b[0;34m)\u001b[0m\u001b[0;34m\u001b[0m\u001b[0;34m\u001b[0m\u001b[0m\n\u001b[0m\u001b[1;32m      9\u001b[0m     \u001b[0mprint\u001b[0m\u001b[0;34m(\u001b[0m\u001b[0;34m\"forest: \"\u001b[0m\u001b[0;34m,\u001b[0m \u001b[0mforestpreds\u001b[0m\u001b[0;34m[\u001b[0m\u001b[0mind\u001b[0m\u001b[0;34m]\u001b[0m\u001b[0;34m)\u001b[0m\u001b[0;34m\u001b[0m\u001b[0;34m\u001b[0m\u001b[0m\n\u001b[1;32m     10\u001b[0m     \u001b[0mprint\u001b[0m\u001b[0;34m(\u001b[0m\u001b[0;34m\"neural network: \"\u001b[0m\u001b[0;34m,\u001b[0m \u001b[0mnnpreds\u001b[0m\u001b[0;34m[\u001b[0m\u001b[0mind\u001b[0m\u001b[0;34m]\u001b[0m\u001b[0;34m[\u001b[0m\u001b[0;36m0\u001b[0m\u001b[0;34m]\u001b[0m\u001b[0;34m)\u001b[0m\u001b[0;34m\u001b[0m\u001b[0;34m\u001b[0m\u001b[0m\n",
      "\u001b[0;31mIndexError\u001b[0m: index 227458 is out of bounds for axis 0 with size 200"
     ]
    }
   ],
   "source": [
    "import random\n",
    "\n",
    "for i in range(10):\n",
    "    ind = random.choice(x_test_ex.keys().unique())\n",
    "    print(ind)\n",
    "    print(\"text: \", x_test_ex[ind])\n",
    "    print(\"real: \", real[ind])\n",
    "    print(\"baseline: \", preds[ind])\n",
    "    print(\"forest: \", forestpreds[ind])\n",
    "    print(\"neural network: \", nnpreds[ind][0])"
   ]
  },
  {
   "cell_type": "code",
   "execution_count": 200,
   "metadata": {},
   "outputs": [
    {
     "data": {
      "text/html": [
       "<div>\n",
       "<style scoped>\n",
       "    .dataframe tbody tr th:only-of-type {\n",
       "        vertical-align: middle;\n",
       "    }\n",
       "\n",
       "    .dataframe tbody tr th {\n",
       "        vertical-align: top;\n",
       "    }\n",
       "\n",
       "    .dataframe thead th {\n",
       "        text-align: right;\n",
       "    }\n",
       "</style>\n",
       "<table border=\"1\" class=\"dataframe\">\n",
       "  <thead>\n",
       "    <tr style=\"text-align: right;\">\n",
       "      <th></th>\n",
       "      <th>score</th>\n",
       "      <th>title</th>\n",
       "      <th>ups</th>\n",
       "      <th>downs</th>\n",
       "      <th>selftext</th>\n",
       "      <th>combined</th>\n",
       "    </tr>\n",
       "  </thead>\n",
       "  <tbody>\n",
       "    <tr>\n",
       "      <td>0</td>\n",
       "      <td>537</td>\n",
       "      <td>ELIC: How come I can't upvote any of the posts...</td>\n",
       "      <td>599</td>\n",
       "      <td>62</td>\n",
       "      <td>Because it builds character, that's why.</td>\n",
       "      <td>ELIC: How come I can't upvote any of the posts...</td>\n",
       "    </tr>\n",
       "    <tr>\n",
       "      <td>1</td>\n",
       "      <td>543</td>\n",
       "      <td>Why are there holes in bricks?</td>\n",
       "      <td>651</td>\n",
       "      <td>108</td>\n",
       "      <td>I'm talking about the red bricks they make hou...</td>\n",
       "      <td>Why are there holes in bricks?I'm talking abou...</td>\n",
       "    </tr>\n",
       "    <tr>\n",
       "      <td>2</td>\n",
       "      <td>483</td>\n",
       "      <td>Some people here have obviously never read Cal...</td>\n",
       "      <td>529</td>\n",
       "      <td>46</td>\n",
       "      <td>Let me start off by saying that this is defini...</td>\n",
       "      <td>Some people here have obviously never read Cal...</td>\n",
       "    </tr>\n",
       "    <tr>\n",
       "      <td>3</td>\n",
       "      <td>278</td>\n",
       "      <td>So this is my default user style for this subr...</td>\n",
       "      <td>296</td>\n",
       "      <td>18</td>\n",
       "      <td>So I was bored and decided to use a user style...</td>\n",
       "      <td>So this is my default user style for this subr...</td>\n",
       "    </tr>\n",
       "    <tr>\n",
       "      <td>4</td>\n",
       "      <td>264</td>\n",
       "      <td>ELIC: If people are beautiful on the inside, w...</td>\n",
       "      <td>318</td>\n",
       "      <td>54</td>\n",
       "      <td></td>\n",
       "      <td>ELIC: If people are beautiful on the inside, w...</td>\n",
       "    </tr>\n",
       "    <tr>\n",
       "      <td>...</td>\n",
       "      <td>...</td>\n",
       "      <td>...</td>\n",
       "      <td>...</td>\n",
       "      <td>...</td>\n",
       "      <td>...</td>\n",
       "      <td>...</td>\n",
       "    </tr>\n",
       "    <tr>\n",
       "      <td>2266093</td>\n",
       "      <td>93</td>\n",
       "      <td>Anyone else want one? [FJ]</td>\n",
       "      <td>120</td>\n",
       "      <td>27</td>\n",
       "      <td></td>\n",
       "      <td>Anyone else want one? [FJ]</td>\n",
       "    </tr>\n",
       "    <tr>\n",
       "      <td>2266094</td>\n",
       "      <td>88</td>\n",
       "      <td>As requested, more of my GF's feet! An old one...</td>\n",
       "      <td>103</td>\n",
       "      <td>15</td>\n",
       "      <td></td>\n",
       "      <td>As requested, more of my GF's feet! An old one...</td>\n",
       "    </tr>\n",
       "    <tr>\n",
       "      <td>2266095</td>\n",
       "      <td>89</td>\n",
       "      <td>My red toes! (x-post from GW) ;)</td>\n",
       "      <td>120</td>\n",
       "      <td>31</td>\n",
       "      <td></td>\n",
       "      <td>My red toes! (x-post from GW) ;)</td>\n",
       "    </tr>\n",
       "    <tr>\n",
       "      <td>2266096</td>\n",
       "      <td>92</td>\n",
       "      <td>Just the tip</td>\n",
       "      <td>112</td>\n",
       "      <td>20</td>\n",
       "      <td></td>\n",
       "      <td>Just the tip</td>\n",
       "    </tr>\n",
       "    <tr>\n",
       "      <td>2266097</td>\n",
       "      <td>92</td>\n",
       "      <td>:)</td>\n",
       "      <td>130</td>\n",
       "      <td>38</td>\n",
       "      <td></td>\n",
       "      <td>:)</td>\n",
       "    </tr>\n",
       "  </tbody>\n",
       "</table>\n",
       "<p>2266098 rows × 6 columns</p>\n",
       "</div>"
      ],
      "text/plain": [
       "         score                                              title  ups  downs  \\\n",
       "0          537  ELIC: How come I can't upvote any of the posts...  599     62   \n",
       "1          543                     Why are there holes in bricks?  651    108   \n",
       "2          483  Some people here have obviously never read Cal...  529     46   \n",
       "3          278  So this is my default user style for this subr...  296     18   \n",
       "4          264  ELIC: If people are beautiful on the inside, w...  318     54   \n",
       "...        ...                                                ...  ...    ...   \n",
       "2266093     93                         Anyone else want one? [FJ]  120     27   \n",
       "2266094     88  As requested, more of my GF's feet! An old one...  103     15   \n",
       "2266095     89                   My red toes! (x-post from GW) ;)  120     31   \n",
       "2266096     92                                       Just the tip  112     20   \n",
       "2266097     92                                                 :)  130     38   \n",
       "\n",
       "                                                  selftext  \\\n",
       "0                 Because it builds character, that's why.   \n",
       "1        I'm talking about the red bricks they make hou...   \n",
       "2        Let me start off by saying that this is defini...   \n",
       "3        So I was bored and decided to use a user style...   \n",
       "4                                                            \n",
       "...                                                    ...   \n",
       "2266093                                                      \n",
       "2266094                                                      \n",
       "2266095                                                      \n",
       "2266096                                                      \n",
       "2266097                                                      \n",
       "\n",
       "                                                  combined  \n",
       "0        ELIC: How come I can't upvote any of the posts...  \n",
       "1        Why are there holes in bricks?I'm talking abou...  \n",
       "2        Some people here have obviously never read Cal...  \n",
       "3        So this is my default user style for this subr...  \n",
       "4        ELIC: If people are beautiful on the inside, w...  \n",
       "...                                                    ...  \n",
       "2266093                         Anyone else want one? [FJ]  \n",
       "2266094  As requested, more of my GF's feet! An old one...  \n",
       "2266095                   My red toes! (x-post from GW) ;)  \n",
       "2266096                                       Just the tip  \n",
       "2266097                                                 :)  \n",
       "\n",
       "[2266098 rows x 6 columns]"
      ]
     },
     "execution_count": 200,
     "metadata": {},
     "output_type": "execute_result"
    }
   ],
   "source": [
    "frame"
   ]
  },
  {
   "cell_type": "code",
   "execution_count": null,
   "metadata": {},
   "outputs": [],
   "source": []
  }
 ],
 "metadata": {
  "kernelspec": {
   "display_name": "Python 3",
   "language": "python",
   "name": "python3"
  },
  "language_info": {
   "codemirror_mode": {
    "name": "ipython",
    "version": 3
   },
   "file_extension": ".py",
   "mimetype": "text/x-python",
   "name": "python",
   "nbconvert_exporter": "python",
   "pygments_lexer": "ipython3",
   "version": "3.12.6"
  }
 },
 "nbformat": 4,
 "nbformat_minor": 4
}
